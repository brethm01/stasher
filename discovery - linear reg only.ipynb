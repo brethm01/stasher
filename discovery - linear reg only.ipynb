{
 "cells": [
  {
   "cell_type": "code",
   "execution_count": 1,
   "id": "4e85ab64-9226-4452-8ac9-69df64fa9c46",
   "metadata": {},
   "outputs": [],
   "source": [
    "# pandas\n",
    "import pandas as pd\n",
    "from pandas import Series,DataFrame\n",
    "from datetime import datetime as datetime\n",
    "import re as re\n",
    "# numpy, matplotlib, seaborn\n",
    "import numpy as np\n",
    "import matplotlib.pyplot as plt\n",
    "import seaborn as sns\n",
    "sns.set_style('whitegrid')\n",
    "%matplotlib inline\n",
    "\n",
    "import warnings\n",
    "warnings.filterwarnings(\"ignore\", 'This pattern has match groups')\n",
    "pd.options.mode.chained_assignment = None  # default='warn'"
   ]
  },
  {
   "cell_type": "code",
   "execution_count": 2,
   "id": "ff6a5804-1bea-463e-830e-442d1048307f",
   "metadata": {},
   "outputs": [
    {
     "data": {
      "text/html": [
       "<div>\n",
       "<style scoped>\n",
       "    .dataframe tbody tr th:only-of-type {\n",
       "        vertical-align: middle;\n",
       "    }\n",
       "\n",
       "    .dataframe tbody tr th {\n",
       "        vertical-align: top;\n",
       "    }\n",
       "\n",
       "    .dataframe thead th {\n",
       "        text-align: right;\n",
       "    }\n",
       "</style>\n",
       "<table border=\"1\" class=\"dataframe\">\n",
       "  <thead>\n",
       "    <tr style=\"text-align: right;\">\n",
       "      <th></th>\n",
       "      <th>stashpoint_id</th>\n",
       "      <th>bookings_90d</th>\n",
       "      <th>business_name</th>\n",
       "      <th>country</th>\n",
       "      <th>type</th>\n",
       "      <th>capacity</th>\n",
       "      <th>activated</th>\n",
       "      <th>sps_within_500m</th>\n",
       "      <th>units_supply_within_500m</th>\n",
       "      <th>review_count_90d</th>\n",
       "      <th>avg_review_rating_90d</th>\n",
       "      <th>searches_last_90</th>\n",
       "    </tr>\n",
       "  </thead>\n",
       "  <tbody>\n",
       "    <tr>\n",
       "      <th>3</th>\n",
       "      <td>21ee810bc764</td>\n",
       "      <td>2</td>\n",
       "      <td>Foodwise Express</td>\n",
       "      <td>GBR</td>\n",
       "      <td>convenience_store</td>\n",
       "      <td>50</td>\n",
       "      <td>2024-11-06</td>\n",
       "      <td>24</td>\n",
       "      <td>1355</td>\n",
       "      <td>0</td>\n",
       "      <td>NaN</td>\n",
       "      <td>7958</td>\n",
       "    </tr>\n",
       "    <tr>\n",
       "      <th>5</th>\n",
       "      <td>6f169b288d15</td>\n",
       "      <td>3</td>\n",
       "      <td>Foodwise Local</td>\n",
       "      <td>GBR</td>\n",
       "      <td>convenience_store</td>\n",
       "      <td>10</td>\n",
       "      <td>2025-05-29</td>\n",
       "      <td>24</td>\n",
       "      <td>1395</td>\n",
       "      <td>0</td>\n",
       "      <td>NaN</td>\n",
       "      <td>7953</td>\n",
       "    </tr>\n",
       "    <tr>\n",
       "      <th>9</th>\n",
       "      <td>08b673bc5584</td>\n",
       "      <td>113</td>\n",
       "      <td>Europa House Hotel</td>\n",
       "      <td>GBR</td>\n",
       "      <td>hotel</td>\n",
       "      <td>200</td>\n",
       "      <td>2023-07-26</td>\n",
       "      <td>23</td>\n",
       "      <td>1156</td>\n",
       "      <td>4</td>\n",
       "      <td>4.75</td>\n",
       "      <td>4388</td>\n",
       "    </tr>\n",
       "    <tr>\n",
       "      <th>11</th>\n",
       "      <td>5c806eaca40c</td>\n",
       "      <td>11</td>\n",
       "      <td>Sonic Paddington Souvenirs</td>\n",
       "      <td>GBR</td>\n",
       "      <td>luggage_storage_shop</td>\n",
       "      <td>100</td>\n",
       "      <td>2025-03-05</td>\n",
       "      <td>23</td>\n",
       "      <td>1255</td>\n",
       "      <td>0</td>\n",
       "      <td>NaN</td>\n",
       "      <td>7925</td>\n",
       "    </tr>\n",
       "    <tr>\n",
       "      <th>13</th>\n",
       "      <td>b612231f182c</td>\n",
       "      <td>3</td>\n",
       "      <td>Mail Boxes Etc</td>\n",
       "      <td>GBR</td>\n",
       "      <td>postal_shop</td>\n",
       "      <td>50</td>\n",
       "      <td>2020-05-25</td>\n",
       "      <td>23</td>\n",
       "      <td>1305</td>\n",
       "      <td>0</td>\n",
       "      <td>NaN</td>\n",
       "      <td>7946</td>\n",
       "    </tr>\n",
       "  </tbody>\n",
       "</table>\n",
       "</div>"
      ],
      "text/plain": [
       "   stashpoint_id  bookings_90d               business_name country  \\\n",
       "3   21ee810bc764             2            Foodwise Express     GBR   \n",
       "5   6f169b288d15             3              Foodwise Local     GBR   \n",
       "9   08b673bc5584           113          Europa House Hotel     GBR   \n",
       "11  5c806eaca40c            11  Sonic Paddington Souvenirs     GBR   \n",
       "13  b612231f182c             3              Mail Boxes Etc     GBR   \n",
       "\n",
       "                    type  capacity  activated  sps_within_500m  \\\n",
       "3      convenience_store        50 2024-11-06               24   \n",
       "5      convenience_store        10 2025-05-29               24   \n",
       "9                  hotel       200 2023-07-26               23   \n",
       "11  luggage_storage_shop       100 2025-03-05               23   \n",
       "13           postal_shop        50 2020-05-25               23   \n",
       "\n",
       "    units_supply_within_500m  review_count_90d  avg_review_rating_90d  \\\n",
       "3                       1355                 0                    NaN   \n",
       "5                       1395                 0                    NaN   \n",
       "9                       1156                 4                   4.75   \n",
       "11                      1255                 0                    NaN   \n",
       "13                      1305                 0                    NaN   \n",
       "\n",
       "    searches_last_90  \n",
       "3               7958  \n",
       "5               7953  \n",
       "9               4388  \n",
       "11              7925  \n",
       "13              7946  "
      ]
     },
     "execution_count": 2,
     "metadata": {},
     "output_type": "execute_result"
    }
   ],
   "source": [
    "df = pd.read_csv('Bookings per stashpoint prediciton.csv')  \n",
    "df['activated'] = pd.to_datetime(df['activated'] , errors='coerce')\n",
    "\n",
    "# Filter to only include stashpoints in the UK (country == 'GBR')\n",
    "df = df[df['country'] == 'GBR'].copy()\n",
    "\n",
    "df.head()"
   ]
  },
  {
   "cell_type": "code",
   "execution_count": 3,
   "id": "20cf92e5-7760-4a14-94d6-6b7a36922e9d",
   "metadata": {},
   "outputs": [
    {
     "name": "stdout",
     "output_type": "stream",
     "text": [
      "['stashpoint_id', 'bookings_90d', 'business_name', 'country', 'type', 'capacity', 'activated', 'sps_within_500m', 'units_supply_within_500m', 'review_count_90d', 'avg_review_rating_90d', 'searches_last_90']\n"
     ]
    }
   ],
   "source": [
    "print(df.columns.tolist()) "
   ]
  },
  {
   "cell_type": "code",
   "execution_count": 4,
   "id": "ab1d0202-87af-47bb-800d-6c458143dbe8",
   "metadata": {},
   "outputs": [
    {
     "name": "stdout",
     "output_type": "stream",
     "text": [
      "type_grouped\n",
      "locker         952\n",
      "retail         380\n",
      "hospitality    378\n",
      "services       120\n",
      "food            99\n",
      "utility          1\n",
      "Name: count, dtype: int64\n"
     ]
    }
   ],
   "source": [
    "# list of unique locations type \n",
    "#print(df['type'].value_counts())\n",
    "# Group some of them \n",
    "\n",
    "type_mapping = {\n",
    "    # Hospitality\n",
    "    'hotel': 'hospitality',\n",
    "    'hostel': 'hospitality',\n",
    "    'premier_inn_hotel': 'hospitality',\n",
    "    'staycity_hotel': 'hospitality',\n",
    "    'wilde_aparthotel': 'hospitality',\n",
    "    'yha_hostel': 'hospitality',\n",
    "    'marriott_courtyard_hotel': 'hospitality',\n",
    "    'concordia_boutique_hotel': 'hospitality',\n",
    "    'sofitel_hotel': 'hospitality',\n",
    "    'ihg_crowne_plaza_hotel': 'hospitality',\n",
    "\n",
    "    # Retail\n",
    "    'shop': 'retail',\n",
    "    'convenience_store': 'retail',\n",
    "    'tech_shop': 'retail',\n",
    "    'postal_shop': 'retail',\n",
    "    'luggage_storage_shop': 'retail',\n",
    "    'rental_shop': 'retail',\n",
    "    'souvenir_shop': 'retail',\n",
    "    'newsagent': 'retail',\n",
    "    'smoke_shop': 'retail',\n",
    "\n",
    "    # Food & Beverage\n",
    "    'food_and_beverage_business': 'food',\n",
    "    'restaurant': 'food',\n",
    "    'cafe': 'food',\n",
    "\n",
    "    # Services\n",
    "    'office': 'services',\n",
    "    'health_beauty_business': 'services',\n",
    "    'laundry_business': 'services',\n",
    "\n",
    "    # Utility\n",
    "    'car_park': 'utility',\n",
    "\n",
    "    # Locker\n",
    "    'locker': 'locker'\n",
    "}\n",
    "\n",
    "# Apply grouping\n",
    "df['type_grouped'] = df['type'].map(type_mapping).fillna('other')\n",
    "print(df['type_grouped'].value_counts())"
   ]
  },
  {
   "cell_type": "code",
   "execution_count": 5,
   "id": "4c997304-8171-4d2d-a704-a639bec89523",
   "metadata": {},
   "outputs": [],
   "source": [
    "# One-hot encode 'type_grouped' and drop the original column\n",
    "df = pd.get_dummies(df, columns=['type_grouped'], prefix='type', drop_first=True)"
   ]
  },
  {
   "cell_type": "code",
   "execution_count": 6,
   "id": "9e87fc2b-2474-470d-b9b8-669ce41dad2e",
   "metadata": {},
   "outputs": [],
   "source": [
    "# Drop non needed \n",
    "df.drop(['country', 'type'], axis=1, inplace=True)"
   ]
  },
  {
   "cell_type": "code",
   "execution_count": 7,
   "id": "9aa6e251-1d23-48dc-90f3-3dd73ca250b7",
   "metadata": {},
   "outputs": [],
   "source": [
    "today = pd.Timestamp.today()\n",
    "df['age_in_days'] = (today - df['activated']).dt.days\n"
   ]
  },
  {
   "cell_type": "code",
   "execution_count": 8,
   "id": "d93b4e5b-8c24-4a7c-8939-8533fa665e08",
   "metadata": {},
   "outputs": [],
   "source": [
    "df.drop(['review_count_90d', 'avg_review_rating_90d'], axis=1, inplace=True)"
   ]
  },
  {
   "cell_type": "code",
   "execution_count": 9,
   "id": "6b85b8f1-8831-4f90-bfba-3cb0a447e615",
   "metadata": {},
   "outputs": [
    {
     "data": {
      "text/plain": [
       "type_locker                -0.201632\n",
       "type_services              -0.044562\n",
       "type_utility                0.017603\n",
       "type_retail                 0.038647\n",
       "age_in_days                 0.213924\n",
       "capacity                    0.215565\n",
       "type_hospitality            0.261021\n",
       "sps_within_500m             0.298497\n",
       "units_supply_within_500m    0.334850\n",
       "searches_last_90            0.488269\n",
       "Name: bookings_90d, dtype: float64"
      ]
     },
     "execution_count": 9,
     "metadata": {},
     "output_type": "execute_result"
    }
   ],
   "source": [
    "import matplotlib.pyplot as plt\n",
    "\n",
    "# Compute correlations with target\n",
    "correlations = df.corr(numeric_only=True)['bookings_90d'].drop('bookings_90d').sort_values()\n",
    "correlations"
   ]
  },
  {
   "cell_type": "code",
   "execution_count": 10,
   "id": "848fb62c-9a9a-4d82-9ea9-d992bdd500f6",
   "metadata": {},
   "outputs": [
    {
     "data": {
      "text/plain": [
       "units_supply_within_500m    -1.387524\n",
       "sps_within_500m             -0.622808\n",
       "age_in_days                  8.930572\n",
       "capacity                    10.942213\n",
       "searches_last_90            57.245503\n",
       "dtype: float64"
      ]
     },
     "execution_count": 10,
     "metadata": {},
     "output_type": "execute_result"
    }
   ],
   "source": [
    "from sklearn.linear_model import Ridge\n",
    "from sklearn.preprocessing import StandardScaler\n",
    "from sklearn.model_selection import train_test_split\n",
    "\n",
    "# Select features and target \n",
    "X = df.drop(columns=['stashpoint_id', 'bookings_90d', 'activated'], errors='ignore')\n",
    "X = X.select_dtypes(include=['number'])  # Keep only numeric columns\n",
    "y = df['bookings_90d']\n",
    "# Standardize numeric features\n",
    "X_scaled = pd.DataFrame(StandardScaler().fit_transform(X), columns=X.columns)\n",
    "\n",
    "# Split into train/test (optional for now)\n",
    "X_train, X_test, y_train, y_test = train_test_split(X_scaled, y, test_size=0.2, random_state=42)\n",
    "\n",
    "# Fit Ridge regression\n",
    "model = Ridge(alpha=1.0)\n",
    "model.fit(X_train, y_train)\n",
    "\n",
    "# Get coefficients\n",
    "coefficients_ridge = pd.Series(model.coef_, index=X.columns).sort_values()\n",
    "coefficients_ridge"
   ]
  },
  {
   "cell_type": "code",
   "execution_count": 11,
   "id": "1ca05a03-3232-48a0-a831-1c82e74b6028",
   "metadata": {},
   "outputs": [],
   "source": [
    "# Linear regression \n",
    "# Remove the engineered variables\n",
    "# Use y_log = np.log1p(bookings_90d) to handle skew in the target\n",
    "# Keep raw features only, like searches_last_90, sps_within_500m, capacity, etc."
   ]
  },
  {
   "cell_type": "code",
   "execution_count": null,
   "id": "626fb337-e253-48bb-966c-3403fa33055a",
   "metadata": {},
   "outputs": [],
   "source": [
    " "
   ]
  },
  {
   "cell_type": "code",
   "execution_count": 15,
   "id": "d3af4251-1fc8-4237-8bef-782cfb4b7e65",
   "metadata": {},
   "outputs": [
    {
     "name": "stdout",
     "output_type": "stream",
     "text": [
      "Linear Regression (no engineered vars, not-log target) R²: 0.028\n",
      "Linear Regression (no engineered vars, not-log  target) RMSE: 105.70\n"
     ]
    }
   ],
   "source": [
    "from sklearn.linear_model import LinearRegression\n",
    "from sklearn.model_selection import train_test_split\n",
    "from sklearn.preprocessing import StandardScaler\n",
    "from sklearn.metrics import mean_squared_error, r2_score\n",
    "import numpy as np\n",
    "import pandas as pd\n",
    "\n",
    "# 1. Define target (log-transformed)\n",
    "#y_log = np.log1p(df['bookings_90d'])\n",
    "# Keep original target \n",
    "y = df['bookings_90d']\n",
    "\n",
    "# 2. Define features — drop engineered vars\n",
    "X = df.drop(columns=[\n",
    "    'stashpoint_id', 'bookings_90d', 'activated',\n",
    "    'competition_density', 'search_to_supply_ratio'\n",
    "], errors='ignore')\n",
    "\n",
    "X = X.select_dtypes(include='number')  # Keep only numeric columns\n",
    "\n",
    "# 3. Standardize features\n",
    "scaler = StandardScaler()\n",
    "X_scaled = scaler.fit_transform(X)\n",
    "\n",
    "# 4. Train/test split\n",
    "X_train, X_test, y_train, y_test = train_test_split(X_scaled, y_log, test_size=0.2, random_state=42)\n",
    "\n",
    "# 5. Fit linear regression\n",
    "lr = LinearRegression()\n",
    "lr.fit(X_train, y_train)\n",
    "\n",
    "# 6. Predict and reverse log\n",
    "y_pred_log = lr.predict(X_test)\n",
    "y_pred = np.expm1(y_pred_log)\n",
    "y_true = np.expm1(y_test)\n",
    "\n",
    "# 7. Evaluate\n",
    "r2 = r2_score(y_true, y_pred)\n",
    "rmse = np.sqrt(mean_squared_error(y_true, y_pred))\n",
    "\n",
    "print(f'Linear Regression (no engineered vars, not-log target) R²: {r2:.3f}')\n",
    "print(f'Linear Regression (no engineered vars, not-log  target) RMSE: {rmse:.2f}')"
   ]
  },
  {
   "cell_type": "code",
   "execution_count": 13,
   "id": "1d29f3e8-cb86-4970-95e3-7229fc100ad8",
   "metadata": {},
   "outputs": [],
   "source": [
    "### LINEAR REGRESSION WITH LOG(Y) \n",
    "#y_log = np.log1p(df['bookings_90d'])\n",
    "#Linear Regression (no engineered vars, log target) R²: 0.028\n",
    "#Linear Regression (no engineered vars, log target) RMSE: 105.70\n",
    "\n",
    "#Underfits the data.\n",
    "#Likely misses critical nonlinearities and interactions.\n",
    "#Suffers from removing features that carried strong signal (search_to_supply_ratio, etc.).\n",
    "#Removed engineered variables\tLost meaningful transformations of raw data.\n",
    "#Pure linear model\tCan't model non-linear relationships (e.g., saturation, thresholds).\n",
    "#Log target + linear fit\tDoesn't help much if features themselves need transformation.\n",
    "\n",
    "### LINEAR REGRESSION WITH Y\n",
    "#R²: 0.028 → The model explains only ~2.8% of the variance.\n",
    "#RMSE: 105.70 → Worse than Random Forest (RMSE ~80), meaning high prediction error.\n",
    "\n",
    "#Nonlinear relationships (e.g., searches or age have diminishing/multiplicative effects).\n",
    "#Interactions that linear models can't naturally capture.\n",
    "\n",
    "\n",
    "## ABORT LINEAR REG altogether \n",
    "\n"
   ]
  },
  {
   "cell_type": "code",
   "execution_count": null,
   "id": "068c7c3e-e9c8-45b8-abe7-10f535f8d75a",
   "metadata": {},
   "outputs": [],
   "source": []
  }
 ],
 "metadata": {
  "kernelspec": {
   "display_name": "Python 3 (ipykernel)",
   "language": "python",
   "name": "python3"
  },
  "language_info": {
   "codemirror_mode": {
    "name": "ipython",
    "version": 3
   },
   "file_extension": ".py",
   "mimetype": "text/x-python",
   "name": "python",
   "nbconvert_exporter": "python",
   "pygments_lexer": "ipython3",
   "version": "3.12.7"
  }
 },
 "nbformat": 4,
 "nbformat_minor": 5
}
