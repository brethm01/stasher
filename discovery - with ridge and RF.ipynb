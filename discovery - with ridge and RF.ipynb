{
 "cells": [
  {
   "cell_type": "code",
   "execution_count": 82,
   "id": "5eb1c6b3-eb6e-4661-acb3-c5a0b93f364e",
   "metadata": {},
   "outputs": [],
   "source": [
    "# pandas\n",
    "import pandas as pd\n",
    "from pandas import Series,DataFrame\n",
    "from datetime import datetime as datetime\n",
    "import re as re\n",
    "# numpy, matplotlib, seaborn\n",
    "import numpy as np\n",
    "import matplotlib.pyplot as plt\n",
    "import seaborn as sns\n",
    "sns.set_style('whitegrid')\n",
    "%matplotlib inline\n",
    "\n",
    "import warnings\n",
    "warnings.filterwarnings(\"ignore\", 'This pattern has match groups')\n",
    "pd.options.mode.chained_assignment = None  # default='warn'"
   ]
  },
  {
   "cell_type": "code",
   "execution_count": 83,
   "id": "ae45af96-94be-48f1-81ed-e7cebc030881",
   "metadata": {},
   "outputs": [
    {
     "data": {
      "text/html": [
       "<div>\n",
       "<style scoped>\n",
       "    .dataframe tbody tr th:only-of-type {\n",
       "        vertical-align: middle;\n",
       "    }\n",
       "\n",
       "    .dataframe tbody tr th {\n",
       "        vertical-align: top;\n",
       "    }\n",
       "\n",
       "    .dataframe thead th {\n",
       "        text-align: right;\n",
       "    }\n",
       "</style>\n",
       "<table border=\"1\" class=\"dataframe\">\n",
       "  <thead>\n",
       "    <tr style=\"text-align: right;\">\n",
       "      <th></th>\n",
       "      <th>stashpoint_id</th>\n",
       "      <th>bookings_90d</th>\n",
       "      <th>business_name</th>\n",
       "      <th>country</th>\n",
       "      <th>type</th>\n",
       "      <th>capacity</th>\n",
       "      <th>activated</th>\n",
       "      <th>sps_within_500m</th>\n",
       "      <th>units_supply_within_500m</th>\n",
       "      <th>review_count_90d</th>\n",
       "      <th>avg_review_rating_90d</th>\n",
       "      <th>searches_last_90</th>\n",
       "    </tr>\n",
       "  </thead>\n",
       "  <tbody>\n",
       "    <tr>\n",
       "      <th>3</th>\n",
       "      <td>21ee810bc764</td>\n",
       "      <td>2</td>\n",
       "      <td>Foodwise Express</td>\n",
       "      <td>GBR</td>\n",
       "      <td>convenience_store</td>\n",
       "      <td>50</td>\n",
       "      <td>2024-11-06</td>\n",
       "      <td>24</td>\n",
       "      <td>1355</td>\n",
       "      <td>0</td>\n",
       "      <td>NaN</td>\n",
       "      <td>7958</td>\n",
       "    </tr>\n",
       "    <tr>\n",
       "      <th>5</th>\n",
       "      <td>6f169b288d15</td>\n",
       "      <td>3</td>\n",
       "      <td>Foodwise Local</td>\n",
       "      <td>GBR</td>\n",
       "      <td>convenience_store</td>\n",
       "      <td>10</td>\n",
       "      <td>2025-05-29</td>\n",
       "      <td>24</td>\n",
       "      <td>1395</td>\n",
       "      <td>0</td>\n",
       "      <td>NaN</td>\n",
       "      <td>7953</td>\n",
       "    </tr>\n",
       "    <tr>\n",
       "      <th>9</th>\n",
       "      <td>08b673bc5584</td>\n",
       "      <td>113</td>\n",
       "      <td>Europa House Hotel</td>\n",
       "      <td>GBR</td>\n",
       "      <td>hotel</td>\n",
       "      <td>200</td>\n",
       "      <td>2023-07-26</td>\n",
       "      <td>23</td>\n",
       "      <td>1156</td>\n",
       "      <td>4</td>\n",
       "      <td>4.75</td>\n",
       "      <td>4388</td>\n",
       "    </tr>\n",
       "    <tr>\n",
       "      <th>11</th>\n",
       "      <td>5c806eaca40c</td>\n",
       "      <td>11</td>\n",
       "      <td>Sonic Paddington Souvenirs</td>\n",
       "      <td>GBR</td>\n",
       "      <td>luggage_storage_shop</td>\n",
       "      <td>100</td>\n",
       "      <td>2025-03-05</td>\n",
       "      <td>23</td>\n",
       "      <td>1255</td>\n",
       "      <td>0</td>\n",
       "      <td>NaN</td>\n",
       "      <td>7925</td>\n",
       "    </tr>\n",
       "    <tr>\n",
       "      <th>13</th>\n",
       "      <td>b612231f182c</td>\n",
       "      <td>3</td>\n",
       "      <td>Mail Boxes Etc</td>\n",
       "      <td>GBR</td>\n",
       "      <td>postal_shop</td>\n",
       "      <td>50</td>\n",
       "      <td>2020-05-25</td>\n",
       "      <td>23</td>\n",
       "      <td>1305</td>\n",
       "      <td>0</td>\n",
       "      <td>NaN</td>\n",
       "      <td>7946</td>\n",
       "    </tr>\n",
       "  </tbody>\n",
       "</table>\n",
       "</div>"
      ],
      "text/plain": [
       "   stashpoint_id  bookings_90d               business_name country  \\\n",
       "3   21ee810bc764             2            Foodwise Express     GBR   \n",
       "5   6f169b288d15             3              Foodwise Local     GBR   \n",
       "9   08b673bc5584           113          Europa House Hotel     GBR   \n",
       "11  5c806eaca40c            11  Sonic Paddington Souvenirs     GBR   \n",
       "13  b612231f182c             3              Mail Boxes Etc     GBR   \n",
       "\n",
       "                    type  capacity  activated  sps_within_500m  \\\n",
       "3      convenience_store        50 2024-11-06               24   \n",
       "5      convenience_store        10 2025-05-29               24   \n",
       "9                  hotel       200 2023-07-26               23   \n",
       "11  luggage_storage_shop       100 2025-03-05               23   \n",
       "13           postal_shop        50 2020-05-25               23   \n",
       "\n",
       "    units_supply_within_500m  review_count_90d  avg_review_rating_90d  \\\n",
       "3                       1355                 0                    NaN   \n",
       "5                       1395                 0                    NaN   \n",
       "9                       1156                 4                   4.75   \n",
       "11                      1255                 0                    NaN   \n",
       "13                      1305                 0                    NaN   \n",
       "\n",
       "    searches_last_90  \n",
       "3               7958  \n",
       "5               7953  \n",
       "9               4388  \n",
       "11              7925  \n",
       "13              7946  "
      ]
     },
     "execution_count": 83,
     "metadata": {},
     "output_type": "execute_result"
    }
   ],
   "source": [
    "df = pd.read_csv('Bookings per stashpoint prediciton.csv')  \n",
    "df['activated'] = pd.to_datetime(df['activated'] , errors='coerce')\n",
    "\n",
    "# Filter to only include stashpoints in the UK (country == 'GBR')\n",
    "df = df[df['country'] == 'GBR'].copy()\n",
    "\n",
    "df.head()"
   ]
  },
  {
   "cell_type": "code",
   "execution_count": 84,
   "id": "a1d29105-07b9-42c3-99f4-207f9f8b7947",
   "metadata": {},
   "outputs": [
    {
     "name": "stdout",
     "output_type": "stream",
     "text": [
      "['stashpoint_id', 'bookings_90d', 'business_name', 'country', 'type', 'capacity', 'activated', 'sps_within_500m', 'units_supply_within_500m', 'review_count_90d', 'avg_review_rating_90d', 'searches_last_90']\n"
     ]
    }
   ],
   "source": [
    "print(df.columns.tolist()) "
   ]
  },
  {
   "cell_type": "code",
   "execution_count": 85,
   "id": "6bc40ac8-a724-4ed4-9d8e-ba3c98bc7d89",
   "metadata": {},
   "outputs": [
    {
     "data": {
      "image/png": "[encoded data removed]",
      "text/plain": [
       "<Figure size 800x600 with 1 Axes>"
      ]
     },
     "metadata": {},
     "output_type": "display_data"
    }
   ],
   "source": [
    "avg_bookings_by_type = df.groupby('type')['bookings_90d'].agg(['count', 'mean', 'median']).sort_values('mean', ascending=False)\n",
    "#print(avg_bookings_by_type)\n",
    "\n",
    "avg_bookings_by_type['mean'].plot(kind='barh', figsize=(8, 6), color='skyblue')\n",
    "plt.xlabel('Average Bookings (90d)')\n",
    "plt.ylabel('Stashpoint Type')\n",
    "plt.title('Average Bookings by Building Type')\n",
    "plt.gca().invert_yaxis()  # Highest on top\n",
    "plt.grid(True, axis='x')\n",
    "plt.tight_layout()\n",
    "plt.show()"
   ]
  },
  {
   "cell_type": "code",
   "execution_count": 87,
   "id": "82151910-9675-413a-95b3-005ef383d495",
   "metadata": {},
   "outputs": [
    {
     "name": "stdout",
     "output_type": "stream",
     "text": [
      "type_grouped\n",
      "locker         952\n",
      "retail         380\n",
      "hospitality    378\n",
      "services       120\n",
      "food            99\n",
      "utility          1\n",
      "Name: count, dtype: int64\n"
     ]
    }
   ],
   "source": [
    "# list of unique locations type \n",
    "#print(df['type'].value_counts())\n",
    "# Group some of them \n",
    "\n",
    "type_mapping = {\n",
    "    # Hospitality\n",
    "    'hotel': 'hospitality',\n",
    "    'hostel': 'hospitality',\n",
    "    'premier_inn_hotel': 'hospitality',\n",
    "    'staycity_hotel': 'hospitality',\n",
    "    'wilde_aparthotel': 'hospitality',\n",
    "    'yha_hostel': 'hospitality',\n",
    "    'marriott_courtyard_hotel': 'hospitality',\n",
    "    'concordia_boutique_hotel': 'hospitality',\n",
    "    'sofitel_hotel': 'hospitality',\n",
    "    'ihg_crowne_plaza_hotel': 'hospitality',\n",
    "\n",
    "    # Retail\n",
    "    'shop': 'retail',\n",
    "    'convenience_store': 'retail',\n",
    "    'tech_shop': 'retail',\n",
    "    'postal_shop': 'retail',\n",
    "    'luggage_storage_shop': 'retail',\n",
    "    'rental_shop': 'retail',\n",
    "    'souvenir_shop': 'retail',\n",
    "    'newsagent': 'retail',\n",
    "    'smoke_shop': 'retail',\n",
    "\n",
    "    # Food & Beverage\n",
    "    'food_and_beverage_business': 'food',\n",
    "    'restaurant': 'food',\n",
    "    'cafe': 'food',\n",
    "\n",
    "    # Services\n",
    "    'office': 'services',\n",
    "    'health_beauty_business': 'services',\n",
    "    'laundry_business': 'services',\n",
    "\n",
    "    # Utility\n",
    "    'car_park': 'utility',\n",
    "\n",
    "    # Locker\n",
    "    'locker': 'locker'\n",
    "}\n",
    "\n",
    "# Apply grouping\n",
    "df['type_grouped'] = df['type'].map(type_mapping).fillna('other')\n",
    "print(df['type_grouped'].value_counts())"
   ]
  },
  {
   "cell_type": "code",
   "execution_count": 88,
   "id": "f1f75698-914c-4c9e-96d5-963883338469",
   "metadata": {},
   "outputs": [
    {
     "data": {
      "image/png": "[encoded data removed]",
      "text/plain": [
       "<Figure size 800x600 with 1 Axes>"
      ]
     },
     "metadata": {},
     "output_type": "display_data"
    }
   ],
   "source": [
    "avg_bookings_by_type = df.groupby('type_grouped')['bookings_90d'].agg(['count', 'mean', 'median']).sort_values('mean', ascending=False)\n",
    "#print(avg_bookings_by_type)\n",
    "\n",
    "avg_bookings_by_type['mean'].plot(kind='barh', figsize=(8, 6), color='skyblue')\n",
    "plt.xlabel('Average Bookings (90d)')\n",
    "plt.ylabel('Stashpoint Type')\n",
    "plt.title('Average Bookings by Building Type')\n",
    "plt.gca().invert_yaxis()  # Highest on top\n",
    "plt.grid(True, axis='x')\n",
    "plt.tight_layout()\n",
    "plt.show()"
   ]
  },
  {
   "cell_type": "code",
   "execution_count": 43,
   "id": "1d0e542a-7204-4568-bd56-d45555f1a910",
   "metadata": {},
   "outputs": [],
   "source": [
    "# One-hot encode 'type_grouped' and drop the original column\n",
    "df = pd.get_dummies(df, columns=['type_grouped'], prefix='type', drop_first=True)"
   ]
  },
  {
   "cell_type": "code",
   "execution_count": 44,
   "id": "67681377-b35b-4873-8514-ed8089d18e8f",
   "metadata": {},
   "outputs": [],
   "source": [
    "# Drop non needed \n",
    "df.drop(['country', 'type'], axis=1, inplace=True)"
   ]
  },
  {
   "cell_type": "code",
   "execution_count": 45,
   "id": "ac144f23-eb99-4391-a70c-fad9e95e5941",
   "metadata": {},
   "outputs": [],
   "source": [
    "## Additional variables \n",
    "\n",
    "today = pd.Timestamp.today()\n",
    "df['age_in_days'] = (today - df['activated']).dt.days\n",
    "\n",
    "# Competition density (stashpoints per unit) (removed as v weak correlation) \n",
    "df['competition_density'] = df['sps_within_500m'] / (df['units_supply_within_500m'] + 1)\n",
    "\n",
    "# Search to supply ratio\n",
    "df['search_to_supply_ratio'] = df['searches_last_90'] / (df['units_supply_within_500m'] + 1)"
   ]
  },
  {
   "cell_type": "code",
   "execution_count": 61,
   "id": "80407b07-b703-4e3c-bf56-0948536a15c6",
   "metadata": {},
   "outputs": [],
   "source": [
    "# Dealing with too many missings\n",
    "\n",
    "missing_pct = df.isnull().mean().sort_values(ascending=False)\n",
    "#print(missing_pct)\n",
    "\n",
    "zero_pct = (df == 0).mean(numeric_only=True).sort_values(ascending=False)\n",
    "#print(zero_pct)\n"
   ]
  },
  {
   "cell_type": "code",
   "execution_count": 47,
   "id": "a0d48377-fee9-452c-90a9-2afa42f74cdd",
   "metadata": {},
   "outputs": [
    {
     "name": "stdout",
     "output_type": "stream",
     "text": [
      "Columns to consider dropping: ['type_utility', 'review_count_90d', 'type_retail', 'type_services', 'type_hospitality', 'avg_review_rating_90d']\n"
     ]
    }
   ],
   "source": [
    "threshold_missing = 0.3 # Remove if > 30% missing \n",
    "threshold_zero = 0.8 # remove if > 80% are 0\n",
    "\n",
    "cols_to_drop = missing_pct[missing_pct > threshold_missing].index.tolist()\n",
    "cols_to_drop += zero_pct[zero_pct > threshold_zero].index.tolist()\n",
    "cols_to_drop = list(set(cols_to_drop))  # remove duplicates\n",
    "\n",
    "print(\"Columns to consider dropping:\", cols_to_drop)"
   ]
  },
  {
   "cell_type": "code",
   "execution_count": 48,
   "id": "5e5524f0-7110-47d5-9259-ac0c3d8aa5eb",
   "metadata": {},
   "outputs": [],
   "source": [
    "df.drop(['review_count_90d', 'avg_review_rating_90d'], axis=1, inplace=True)"
   ]
  },
  {
   "cell_type": "code",
   "execution_count": 49,
   "id": "c9bb7311-f28b-47d6-a821-ae2ff01fe5f5",
   "metadata": {
    "scrolled": true
   },
   "outputs": [
    {
     "data": {
      "text/html": [
       "<div>\n",
       "<style scoped>\n",
       "    .dataframe tbody tr th:only-of-type {\n",
       "        vertical-align: middle;\n",
       "    }\n",
       "\n",
       "    .dataframe tbody tr th {\n",
       "        vertical-align: top;\n",
       "    }\n",
       "\n",
       "    .dataframe thead th {\n",
       "        text-align: right;\n",
       "    }\n",
       "</style>\n",
       "<table border=\"1\" class=\"dataframe\">\n",
       "  <thead>\n",
       "    <tr style=\"text-align: right;\">\n",
       "      <th></th>\n",
       "      <th>stashpoint_id</th>\n",
       "      <th>bookings_90d</th>\n",
       "      <th>business_name</th>\n",
       "      <th>capacity</th>\n",
       "      <th>activated</th>\n",
       "      <th>sps_within_500m</th>\n",
       "      <th>units_supply_within_500m</th>\n",
       "      <th>searches_last_90</th>\n",
       "      <th>type_hospitality</th>\n",
       "      <th>type_locker</th>\n",
       "      <th>type_retail</th>\n",
       "      <th>type_services</th>\n",
       "      <th>type_utility</th>\n",
       "      <th>age_in_days</th>\n",
       "      <th>competition_density</th>\n",
       "      <th>search_to_supply_ratio</th>\n",
       "    </tr>\n",
       "  </thead>\n",
       "  <tbody>\n",
       "    <tr>\n",
       "      <th>3</th>\n",
       "      <td>21ee810bc764</td>\n",
       "      <td>2</td>\n",
       "      <td>Foodwise Express</td>\n",
       "      <td>50</td>\n",
       "      <td>2024-11-06</td>\n",
       "      <td>24</td>\n",
       "      <td>1355</td>\n",
       "      <td>7958</td>\n",
       "      <td>False</td>\n",
       "      <td>False</td>\n",
       "      <td>True</td>\n",
       "      <td>False</td>\n",
       "      <td>False</td>\n",
       "      <td>243</td>\n",
       "      <td>0.017699</td>\n",
       "      <td>5.868732</td>\n",
       "    </tr>\n",
       "    <tr>\n",
       "      <th>5</th>\n",
       "      <td>6f169b288d15</td>\n",
       "      <td>3</td>\n",
       "      <td>Foodwise Local</td>\n",
       "      <td>10</td>\n",
       "      <td>2025-05-29</td>\n",
       "      <td>24</td>\n",
       "      <td>1395</td>\n",
       "      <td>7953</td>\n",
       "      <td>False</td>\n",
       "      <td>False</td>\n",
       "      <td>True</td>\n",
       "      <td>False</td>\n",
       "      <td>False</td>\n",
       "      <td>39</td>\n",
       "      <td>0.017192</td>\n",
       "      <td>5.696991</td>\n",
       "    </tr>\n",
       "    <tr>\n",
       "      <th>9</th>\n",
       "      <td>08b673bc5584</td>\n",
       "      <td>113</td>\n",
       "      <td>Europa House Hotel</td>\n",
       "      <td>200</td>\n",
       "      <td>2023-07-26</td>\n",
       "      <td>23</td>\n",
       "      <td>1156</td>\n",
       "      <td>4388</td>\n",
       "      <td>True</td>\n",
       "      <td>False</td>\n",
       "      <td>False</td>\n",
       "      <td>False</td>\n",
       "      <td>False</td>\n",
       "      <td>712</td>\n",
       "      <td>0.019879</td>\n",
       "      <td>3.792567</td>\n",
       "    </tr>\n",
       "    <tr>\n",
       "      <th>11</th>\n",
       "      <td>5c806eaca40c</td>\n",
       "      <td>11</td>\n",
       "      <td>Sonic Paddington Souvenirs</td>\n",
       "      <td>100</td>\n",
       "      <td>2025-03-05</td>\n",
       "      <td>23</td>\n",
       "      <td>1255</td>\n",
       "      <td>7925</td>\n",
       "      <td>False</td>\n",
       "      <td>False</td>\n",
       "      <td>True</td>\n",
       "      <td>False</td>\n",
       "      <td>False</td>\n",
       "      <td>124</td>\n",
       "      <td>0.018312</td>\n",
       "      <td>6.309713</td>\n",
       "    </tr>\n",
       "    <tr>\n",
       "      <th>13</th>\n",
       "      <td>b612231f182c</td>\n",
       "      <td>3</td>\n",
       "      <td>Mail Boxes Etc</td>\n",
       "      <td>50</td>\n",
       "      <td>2020-05-25</td>\n",
       "      <td>23</td>\n",
       "      <td>1305</td>\n",
       "      <td>7946</td>\n",
       "      <td>False</td>\n",
       "      <td>False</td>\n",
       "      <td>True</td>\n",
       "      <td>False</td>\n",
       "      <td>False</td>\n",
       "      <td>1869</td>\n",
       "      <td>0.017611</td>\n",
       "      <td>6.084227</td>\n",
       "    </tr>\n",
       "  </tbody>\n",
       "</table>\n",
       "</div>"
      ],
      "text/plain": [
       "   stashpoint_id  bookings_90d               business_name  capacity  \\\n",
       "3   21ee810bc764             2            Foodwise Express        50   \n",
       "5   6f169b288d15             3              Foodwise Local        10   \n",
       "9   08b673bc5584           113          Europa House Hotel       200   \n",
       "11  5c806eaca40c            11  Sonic Paddington Souvenirs       100   \n",
       "13  b612231f182c             3              Mail Boxes Etc        50   \n",
       "\n",
       "    activated  sps_within_500m  units_supply_within_500m  searches_last_90  \\\n",
       "3  2024-11-06               24                      1355              7958   \n",
       "5  2025-05-29               24                      1395              7953   \n",
       "9  2023-07-26               23                      1156              4388   \n",
       "11 2025-03-05               23                      1255              7925   \n",
       "13 2020-05-25               23                      1305              7946   \n",
       "\n",
       "    type_hospitality  type_locker  type_retail  type_services  type_utility  \\\n",
       "3              False        False         True          False         False   \n",
       "5              False        False         True          False         False   \n",
       "9               True        False        False          False         False   \n",
       "11             False        False         True          False         False   \n",
       "13             False        False         True          False         False   \n",
       "\n",
       "    age_in_days  competition_density  search_to_supply_ratio  \n",
       "3           243             0.017699                5.868732  \n",
       "5            39             0.017192                5.696991  \n",
       "9           712             0.019879                3.792567  \n",
       "11          124             0.018312                6.309713  \n",
       "13         1869             0.017611                6.084227  "
      ]
     },
     "execution_count": 49,
     "metadata": {},
     "output_type": "execute_result"
    }
   ],
   "source": [
    "df.head() "
   ]
  },
  {
   "cell_type": "code",
   "execution_count": 50,
   "id": "78833ac1-d85d-43a3-af9d-061471d3818c",
   "metadata": {},
   "outputs": [],
   "source": [
    "#Run correlation analysis "
   ]
  },
  {
   "cell_type": "code",
   "execution_count": 57,
   "id": "e2aa93bc-a501-46da-9a17-e03e4a29d718",
   "metadata": {},
   "outputs": [
    {
     "data": {
      "text/plain": [
       "type_locker                -0.201632\n",
       "type_services              -0.044562\n",
       "competition_density        -0.035142\n",
       "type_utility                0.017603\n",
       "type_retail                 0.038647\n",
       "search_to_supply_ratio      0.187307\n",
       "age_in_days                 0.213924\n",
       "capacity                    0.215565\n",
       "type_hospitality            0.261021\n",
       "sps_within_500m             0.298497\n",
       "units_supply_within_500m    0.334850\n",
       "searches_last_90            0.488269\n",
       "Name: bookings_90d, dtype: float64"
      ]
     },
     "execution_count": 57,
     "metadata": {},
     "output_type": "execute_result"
    }
   ],
   "source": [
    "import matplotlib.pyplot as plt\n",
    "\n",
    "# Compute correlations with target\n",
    "correlations = df.corr(numeric_only=True)['bookings_90d'].drop('bookings_90d').sort_values()\n",
    "correlations\n",
    "# Plot\n",
    "#plt.figure(figsize=(8, 6))\n",
    "#correlations.plot(kind='barh')\n",
    "#plt.title('Feature Correlation with Bookings (Pearson)')\n",
    "#plt.xlabel('Correlation Coefficient')\n",
    "#plt.grid(True)\n",
    "#plt.tight_layout()\n",
    "#plt.show()"
   ]
  },
  {
   "cell_type": "markdown",
   "id": "de1d3080-06c1-4022-91b0-e453b7a83f44",
   "metadata": {},
   "source": [
    "#### Summary of Correlation Strengths"
   ]
  },
  {
   "cell_type": "code",
   "execution_count": 62,
   "id": "cb347c50-c9ce-48b4-97fa-5464a4d76465",
   "metadata": {},
   "outputs": [],
   "source": [
    "# searches_last_90\t0.49\tStrongest linear relationship — keep.\n",
    "# units_supply_within_500m\t0.33\tModerate — keep.\n",
    "# sps_within_500m\t0.30\tModerate — keep.\n",
    "# type_hospitality\t0.26\tMeaningful categorical feature — keep.\n",
    "# capacity\t0.22\tReasonable — keep.\n",
    "# age_in_days\t0.21\tTime since activation — useful.\n",
    "# search_to_supply_ratio\t0.19\tDemand-supply proxy — useful.\n",
    "# type_retail\t0.04\tWeak, may keep depending on importance in model.\n",
    "# type_utility\t0.02\tNegligible correlation — consider dropping.\n",
    "# competition_density\t-0.04\tVery weak negative — consider dropping.\n",
    "# type_services\t-0.04\tAlso weak — consider dropping.\n",
    "# type_locker\t-0.20\tSlightly negative, may indicate niche behavior — optional."
   ]
  },
  {
   "cell_type": "markdown",
   "id": "b7ed3d22-f0e6-411e-9f02-8b138a0a7b8f",
   "metadata": {},
   "source": [
    "#Correlation is a univariate linear relationship\n",
    "\n",
    "#correlation = -0.035  # Very weak\n",
    "#This says: across the dataset, competition_density alone has almost no direct linear relationship with bookings_90d.\n",
    "\n",
    "#However, this doesn't account for its interaction or collinearity with other variables (like sps_within_500m or units_supply_within_500m).\n"
   ]
  },
  {
   "cell_type": "code",
   "execution_count": 63,
   "id": "a69f5221-db1a-4ca0-8f49-90b307b0afec",
   "metadata": {},
   "outputs": [],
   "source": [
    "# Run the Ridge regression coefficients to confirm whether weakly correlated variables actually have low impact in the model. "
   ]
  },
  {
   "cell_type": "code",
   "execution_count": 59,
   "id": "b9803761-94c5-43a6-b355-c410249e97e3",
   "metadata": {},
   "outputs": [
    {
     "data": {
      "text/plain": [
       "units_supply_within_500m    -1.360777\n",
       "competition_density         -0.687881\n",
       "sps_within_500m              0.713616\n",
       "age_in_days                  8.254867\n",
       "search_to_supply_ratio       8.766311\n",
       "capacity                    10.538868\n",
       "searches_last_90            56.193497\n",
       "dtype: float64"
      ]
     },
     "execution_count": 59,
     "metadata": {},
     "output_type": "execute_result"
    }
   ],
   "source": [
    "from sklearn.linear_model import Ridge\n",
    "from sklearn.preprocessing import StandardScaler\n",
    "from sklearn.model_selection import train_test_split\n",
    "\n",
    "# Select features and target \n",
    "X = df.drop(columns=['stashpoint_id', 'bookings_90d', 'activated'], errors='ignore')\n",
    "X = X.select_dtypes(include=['number'])  # Keep only numeric columns\n",
    "y = df['bookings_90d']\n",
    "# Standardize numeric features\n",
    "X_scaled = pd.DataFrame(StandardScaler().fit_transform(X), columns=X.columns)\n",
    "\n",
    "# Split into train/test (optional for now)\n",
    "X_train, X_test, y_train, y_test = train_test_split(X_scaled, y, test_size=0.2, random_state=42)\n",
    "\n",
    "# Fit Ridge regression\n",
    "model = Ridge(alpha=1.0)\n",
    "model.fit(X_train, y_train)\n",
    "\n",
    "# Get coefficients\n",
    "coefficients_ridge = pd.Series(model.coef_, index=X.columns).sort_values()\n",
    "coefficients_ridge\n",
    "# Plot\n",
    "#plt.figure(figsize=(8, 6))\n",
    "#coefficients.plot(kind='barh')\n",
    "#plt.title('Feature Importance via Ridge Regression')\n",
    "#plt.xlabel('Coefficient Value')\n",
    "#plt.grid(True)\n",
    "#plt.tight_layout()\n",
    "#plt.show()"
   ]
  },
  {
   "cell_type": "code",
   "execution_count": 60,
   "id": "4cd751da-b116-4bef-a568-7759cfe4152f",
   "metadata": {},
   "outputs": [
    {
     "ename": "SyntaxError",
     "evalue": "invalid syntax (1085358035.py, line 1)",
     "output_type": "error",
     "traceback": [
      "\u001b[1;36m  Cell \u001b[1;32mIn[60], line 1\u001b[1;36m\u001b[0m\n\u001b[1;33m    Feature\tCoefficient\tInterpretation\u001b[0m\n\u001b[1;37m           \t^\u001b[0m\n\u001b[1;31mSyntaxError\u001b[0m\u001b[1;31m:\u001b[0m invalid syntax\n"
     ]
    }
   ],
   "source": [
    "###Feature\tCoefficient\tInterpretation\n",
    "# Positive: \n",
    "#searches_last_90\t56.19\t🔥 Strongest driver — more searches nearby = more bookings.\n",
    "#capacity\t10.54\tHigher capacity → more bookings.\n",
    "#search_to_supply_ratio\t8.77\tDemand relative to supply matters.\n",
    "#age_in_days\t8.25\tOlder stashpoints tend to get more bookings (established trust).\n",
    "#sps_within_500m\t0.71\tSlight positive influence — competition may attract attention.\n",
    "\n",
    "# Negative: \n",
    "#competition_density\t-0.69\tToo much competition per unit might hurt.\n",
    "#units_supply_within_500m\t-1.36\tNearby excess supply may dilute demand."
   ]
  },
  {
   "cell_type": "markdown",
   "id": "b3243dcb-8946-48ea-83fe-d920feb251fd",
   "metadata": {},
   "source": [
    "competition_density Ridge coefficient = -0.688  # Moderate negative\n",
    "This means: when holding all other variables constant, a 1 standard deviation increase in competition_density is associated with a decrease in bookings.\n",
    "\n",
    "The Ridge model penalizes correlated predictors (like sps_within_500m), so its effectively saying:\n",
    "“Given that sps_within_500m is already included and positively important, the remaining unique effect of competition_density is negative.”\n",
    "\n",
    "Why sps_within_500m is positive but competition_density is negative? \n",
    "This is the core insight:\n",
    "sps_within_500m: raw count of competitors nearby — positive effect → suggests a higher-density area that attracts users (like a busy train station).\n",
    "competition_density = sps / (units + 1): normalizes competition per unit of supply → if a place has many stashpoints but little supply, its hyper-competitive — this makes sense to negatively affect your stashpoint.\n",
    "\n",
    "More competition is OK when there’s ample demand and supply, but bad when it’s too tight?\n"
   ]
  },
  {
   "cell_type": "code",
   "execution_count": null,
   "id": "09422b56-f6d0-467b-acd1-3dc34ecf9610",
   "metadata": {},
   "outputs": [],
   "source": [
    "# Keep competition_density for now, especially in regularized models like Ridge or Lasso.\n",
    "# Monitor Variance Inflation Factor (VIF) if you plan to fit a regular linear regression (to diagnose multicollinearity).\n",
    "# Consider trying models like Random Forest, which are less sensitive to collinearity and can show importance more robustly."
   ]
  },
  {
   "cell_type": "code",
   "execution_count": 64,
   "id": "fe1f6ad0-383a-4f03-b6de-60f574dfae7f",
   "metadata": {},
   "outputs": [],
   "source": [
    "# Let's try a Random Forest \n",
    "# handles non-linearities.\n",
    "#robust to multicollinearity. "
   ]
  },
  {
   "cell_type": "code",
   "execution_count": 65,
   "id": "3d88ef98-58f9-41f6-ac57-9b6e6286d39b",
   "metadata": {},
   "outputs": [
    {
     "name": "stdout",
     "output_type": "stream",
     "text": [
      "Random Forest R²: 0.436\n",
      "Random Forest RMSE: 80.51\n"
     ]
    }
   ],
   "source": [
    "from sklearn.ensemble import RandomForestRegressor\n",
    "from sklearn.model_selection import train_test_split\n",
    "from sklearn.metrics import r2_score, mean_squared_error\n",
    "import pandas as pd\n",
    "import numpy as np\n",
    "import matplotlib.pyplot as plt\n",
    "\n",
    "# 1. Prepare features and target\n",
    "X = df.drop(columns=['stashpoint_id', 'bookings_90d', 'activated'], errors='ignore')\n",
    "X = X.select_dtypes(include=['number'])  # keep numeric only\n",
    "y = df['bookings_90d']\n",
    "\n",
    "# 2. Train-test split\n",
    "X_train, X_test, y_train, y_test = train_test_split(X, y, test_size=0.2, random_state=42)\n",
    "\n",
    "# 3. Fit Random Forest\n",
    "rf = RandomForestRegressor(n_estimators=100, random_state=42)\n",
    "rf.fit(X_train, y_train)\n",
    "\n",
    "# 4. Predict and evaluate\n",
    "y_pred = rf.predict(X_test)\n",
    "r2 = r2_score(y_test, y_pred)\n",
    "rmse = np.sqrt(mean_squared_error(y_test, y_pred))\n",
    "\n",
    "print(f'Random Forest R²: {r2:.3f}')\n",
    "print(f'Random Forest RMSE: {rmse:.2f}')"
   ]
  },
  {
   "cell_type": "markdown",
   "id": "0b7c6fb7-0c73-4da9-a148-e422cde8a5ef",
   "metadata": {},
   "source": [
    "R² = 0.436 →  model explains ~44% of the variance in bookings.\n",
    "\n",
    "RMSE = 80.51 → On average, your predictions are off by ~80 bookings over 90 days.\n",
    "\n"
   ]
  },
  {
   "cell_type": "code",
   "execution_count": 67,
   "id": "2e100b81-9673-457e-93ea-ab4dd96dfb35",
   "metadata": {},
   "outputs": [
    {
     "data": {
      "text/plain": [
       "competition_density         0.062658\n",
       "units_supply_within_500m    0.067322\n",
       "capacity                    0.085603\n",
       "sps_within_500m             0.098018\n",
       "age_in_days                 0.099447\n",
       "search_to_supply_ratio      0.136782\n",
       "searches_last_90            0.450170\n",
       "dtype: float64"
      ]
     },
     "execution_count": 67,
     "metadata": {},
     "output_type": "execute_result"
    }
   ],
   "source": [
    "# Feature importance (Feature rankings: Based on actual contribution to model accuracy, not just linear effect) \n",
    "importances = pd.Series(rf.feature_importances_, index=X.columns).sort_values()\n",
    "importances\n",
    "\n",
    "# Plot\n",
    "#plt.figure(figsize=(8, 6))\n",
    "#importances.plot(kind='barh')\n",
    "#plt.title('Feature Importance (Random Forest)')\n",
    "#plt.xlabel('Importance Score')\n",
    "#plt.tight_layout()\n",
    "#plt.grid(True)\n",
    "#plt.show()"
   ]
  },
  {
   "cell_type": "markdown",
   "id": "2efbd794-cf70-4adc-976c-b31e5f7149e1",
   "metadata": {},
   "source": [
    "### Feature Importance (Random Forest)"
   ]
  },
  {
   "cell_type": "code",
   "execution_count": null,
   "id": "124e7463-37a1-4801-ae1c-e9547ac0d395",
   "metadata": {},
   "outputs": [],
   "source": [
    "# searches_last_90\t0.45\t🔥 Most influential — demand signal is key.\n",
    "# search_to_supply_ratio\t0.14\tHigh demand per supply = more bookings.\n",
    "# age_in_days\t0.10\tOlder hosts get more bookings — likely more visibility/trust.\n",
    "# sps_within_500m\t0.10\tMore nearby stashpoints = more visibility or clustering benefits.\n",
    "# capacity\t0.09\tMore space = more opportunity to book.\n",
    "# units_supply_within_500m\t0.07\tLocal supply matters, but less so than demand.\n",
    "# competition_density\t0.06\t✅ Still contributes — not a top feature, but not noise."
   ]
  },
  {
   "cell_type": "code",
   "execution_count": 71,
   "id": "b2666baa-e2a8-4d3b-9be3-cdeeba7be17c",
   "metadata": {},
   "outputs": [],
   "source": [
    "# The case of competition density: \n",
    "# competition_density should be kept — it has meaningful but secondary predictive value.\n",
    "# Its importance > 0.05, which is often used as a soft threshold in Random Forest to separate signal from noise.\n",
    "# Its negative sign in Ridge and modest importance in RF suggest it's a refining feature, not a driver — helpful for adjusting predictions downward when competition is fierce.\n"
   ]
  },
  {
   "cell_type": "markdown",
   "id": "eda2ec53-9e73-420a-b383-e1a71194fc72",
   "metadata": {},
   "source": [
    "## XGBoost"
   ]
  },
  {
   "cell_type": "code",
   "execution_count": null,
   "id": "b6dc9052-bc5f-4b21-85c2-d27b6028e24c",
   "metadata": {},
   "outputs": [],
   "source": [
    "# XGBoost is often a step up in performance compared to Random Forest, especially when:\n",
    "# You have structured/tabular data (like yours).\n",
    "# Relationships are non-linear.\n",
    "# You want regularization, better handling of outliers, and finer boosting.\n",
    "\n",
    "## NOT FOUND IN MY PACKAGE \n",
    "# let's try transformation of target as v skwed &  Random Forest can’t easily capture extreme ranges \n",
    "#Makes the target more normally distributed.\n",
    "#Reduces the effect of outliers.\n",
    "#Improves performance for models like Random Forest, which are sensitive to target distribution."
   ]
  },
  {
   "cell_type": "markdown",
   "id": "834c895d-96f7-47f0-9256-6756e66caa56",
   "metadata": {},
   "source": [
    "## Linear reg"
   ]
  },
  {
   "cell_type": "code",
   "execution_count": 78,
   "id": "b57fc359-53f3-4bcf-a6ba-d266a54c5728",
   "metadata": {},
   "outputs": [
    {
     "ename": "SyntaxError",
     "evalue": "invalid character '👉' (U+1F449) (985091975.py, line 9)",
     "output_type": "error",
     "traceback": [
      "\u001b[1;36m  Cell \u001b[1;32mIn[78], line 9\u001b[1;36m\u001b[0m\n\u001b[1;33m    👉 Conclusion:\u001b[0m\n\u001b[1;37m    ^\u001b[0m\n\u001b[1;31mSyntaxError\u001b[0m\u001b[1;31m:\u001b[0m invalid character '👉' (U+1F449)\n"
     ]
    }
   ],
   "source": [
    "#1. Nonlinear Relationships\n",
    "#From your data:\n",
    "#searches_last_90: very strong positive impact (correlation: 0.49, RF importance: 0.45).\n",
    "#search_to_supply_ratio and age_in_days: moderate impact in RF (but much smaller correlation).\n",
    "#This mismatch between correlation and importance suggests nonlinear effects (e.g., thresholds, diminishing returns).\n",
    "#\n",
    "#👉 Conclusion:\n",
    "#Yes, your data likely has nonlinearity, especially for features like:\n",
    "#\n",
    "#search_to_supply_ratio: might plateau.\n",
    "#age_in_days: could have diminishing returns.\n",
    "#competition_density: has complex effects not captured by linear correlation.\n",
    "#Linear regression may underfit or oversimplify these patterns.\n",
    "#\n",
    "#2. Multicollinearity\n",
    "#You’ve created:\n",
    "#competition_density = sps_within_500m / (units_supply_within_500m + 1)\n",
    "#And also included:\n",
    "#sps_within_500m\n",
    "#units_supply_within_500m\n",
    "#This creates strong multicollinearity between those three variables.\n",
    "#\n",
    "#👉 Conclusion:\n",
    "#Yes, your data does have multicollinearity — especially from engineered variables. This:\n",
    "#Inflates standard errors in coefficients.\n",
    "#Makes LinearRegression unstable.\n",
    "#Is exactly what Ridge or Lasso is designed to handle.\n",
    "\n",
    "## WE HAVE TRIED HERE LINEAR REGRESSION (with non-eng variables, as well as log(Y). Results not great. \n",
    "### WE CONTINUE HERE USING RIDGE "
   ]
  },
  {
   "cell_type": "code",
   "execution_count": 79,
   "id": "242c58bc-b24a-435b-9c48-eec197eceaac",
   "metadata": {},
   "outputs": [],
   "source": [
    "# Transform target: log(1 + bookings)\n",
    "#y_log = np.log1p(df['bookings_90d'])"
   ]
  },
  {
   "cell_type": "code",
   "execution_count": 76,
   "id": "09985579-6ada-4ef7-8fa1-8228911db8bc",
   "metadata": {},
   "outputs": [
    {
     "name": "stdout",
     "output_type": "stream",
     "text": [
      "Random Forest (log-transformed target) R²: 0.318\n",
      "Random Forest (log-transformed target) RMSE: 88.55\n"
     ]
    }
   ],
   "source": [
    "# refit randow forest\n",
    "\n",
    "# Features (same as before)\n",
    "#X = df.drop(columns=['stashpoint_id', 'bookings_90d', 'activated'], errors='ignore')\n",
    "#X = X.select_dtypes(include='number')\n",
    "#\n",
    "## Train/test split\n",
    "#X_train, X_test, y_train, y_test = train_test_split(X, y_log, test_size=0.2, random_state=42)\n",
    "#\n",
    "## Fit model\n",
    "#rf = RandomForestRegressor(n_estimators=100, random_state=42)\n",
    "#rf.fit(X_train, y_train)\n",
    "#\n",
    "## Predict and inverse transform\n",
    "#y_pred_log = rf.predict(X_test)\n",
    "#y_pred = np.expm1(y_pred_log)  # Reverse the log1p\n",
    "#\n",
    "## Actual target (unlogged)\n",
    "#y_true = np.expm1(y_test)\n",
    "#\n",
    "## Evaluate\n",
    "#r2 = r2_score(y_true, y_pred)\n",
    "#rmse = np.sqrt(mean_squared_error(y_true, y_pred))\n",
    "#\n",
    "#print(f'Random Forest (log-transformed target) R²: {r2:.3f}')\n",
    "#print(f'Random Forest (log-transformed target) RMSE: {rmse:.2f}')"
   ]
  },
  {
   "cell_type": "code",
   "execution_count": 77,
   "id": "e619f1d1-02c0-48a3-ab9b-dd12958adeb3",
   "metadata": {},
   "outputs": [
    {
     "ename": "SyntaxError",
     "evalue": "invalid syntax (2191003434.py, line 2)",
     "output_type": "error",
     "traceback": [
      "\u001b[1;36m  Cell \u001b[1;32mIn[77], line 2\u001b[1;36m\u001b[0m\n\u001b[1;33m    Random Forest (log-transformed target) RMSE: 88.55\u001b[0m\n\u001b[1;37m           ^\u001b[0m\n\u001b[1;31mSyntaxError\u001b[0m\u001b[1;31m:\u001b[0m invalid syntax\n"
     ]
    }
   ],
   "source": [
    "## REsults : \n",
    "# Random Forest (log-transformed target) R²: 0.318\n",
    "# Random Forest (log-transformed target) RMSE: 88.55"
   ]
  },
  {
   "cell_type": "code",
   "execution_count": null,
   "id": "1e11412e-aa7d-45cd-abe2-3b22ff607d52",
   "metadata": {},
   "outputs": [],
   "source": [
    "#The original target wasn’t skewed enough to benefit from log transformation.\n",
    "# keep original target "
   ]
  },
  {
   "cell_type": "code",
   "execution_count": 69,
   "id": "ec137227-4165-4e3e-b033-b0e525cabd8d",
   "metadata": {},
   "outputs": [],
   "source": [
    "from sklearn.model_selection import train_test_split\n",
    "from sklearn.preprocessing import StandardScaler\n",
    "from sklearn.impute import SimpleImputer\n",
    "# Imputer for missing values\n",
    "imputer = SimpleImputer(strategy='median')  # Median is robust to outliers\n",
    "X_train_imputed = imputer.fit_transform(X_train)\n",
    "X_test_imputed = imputer.transform(X_test)\n",
    "\n",
    "# Now scale\n",
    "scaler = StandardScaler()\n",
    "X_train_scaled = scaler.fit_transform(X_train_imputed)\n",
    "X_test_scaled = scaler.transform(X_test_imputed)"
   ]
  },
  {
   "cell_type": "code",
   "execution_count": 23,
   "id": "d58e1f13-780a-4034-bfd4-38cbce0e731c",
   "metadata": {},
   "outputs": [
    {
     "name": "stdout",
     "output_type": "stream",
     "text": [
      "Linear Regression:\n",
      "RMSE: 30.404117219999165\n",
      "R²: 0.817154412933356\n",
      "\n",
      "Random Forest:\n",
      "RMSE: 39.332146034609075\n",
      "R²: 0.69400454727251\n"
     ]
    },
    {
     "name": "stderr",
     "output_type": "stream",
     "text": [
      "C:\\Users\\brethm01\\AppData\\Local\\anaconda3\\Lib\\site-packages\\sklearn\\metrics\\_regression.py:492: FutureWarning: 'squared' is deprecated in version 1.4 and will be removed in 1.6. To calculate the root mean squared error, use the function'root_mean_squared_error'.\n",
      "  warnings.warn(\n",
      "C:\\Users\\brethm01\\AppData\\Local\\anaconda3\\Lib\\site-packages\\sklearn\\metrics\\_regression.py:492: FutureWarning: 'squared' is deprecated in version 1.4 and will be removed in 1.6. To calculate the root mean squared error, use the function'root_mean_squared_error'.\n",
      "  warnings.warn(\n"
     ]
    }
   ],
   "source": [
    "from sklearn.linear_model import LinearRegression\n",
    "from sklearn.ensemble import RandomForestRegressor\n",
    "from sklearn.metrics import mean_squared_error, r2_score\n",
    "\n",
    "# Linear Model\n",
    "lr = LinearRegression()\n",
    "lr.fit(X_train_scaled, y_train)\n",
    "lr_preds = lr.predict(X_test_scaled)\n",
    "\n",
    "# Random Forest\n",
    "rf = RandomForestRegressor(random_state=42)\n",
    "rf.fit(X_train, y_train)  # Tree-based models don't need scaling\n",
    "rf_preds = rf.predict(X_test)\n",
    "\n",
    "# Evaluation\n",
    "print(\"Linear Regression:\")\n",
    "print(\"RMSE:\", mean_squared_error(y_test, lr_preds, squared=False))\n",
    "print(\"R²:\", r2_score(y_test, lr_preds))\n",
    "\n",
    "print(\"\\nRandom Forest:\")\n",
    "print(\"RMSE:\", mean_squared_error(y_test, rf_preds, squared=False))\n",
    "print(\"R²:\", r2_score(y_test, rf_preds))"
   ]
  },
  {
   "cell_type": "code",
   "execution_count": 24,
   "id": "19a78c50-224b-481e-b2f1-b9e59de975d6",
   "metadata": {},
   "outputs": [],
   "source": [
    "# Factor analysis "
   ]
  },
  {
   "cell_type": "code",
   "execution_count": 26,
   "id": "1001d7bc-8144-4799-88d5-2667123c79e5",
   "metadata": {},
   "outputs": [],
   "source": [
    "from sklearn.preprocessing import StandardScaler\n",
    "\n",
    "# Keep only relevant continuous variables (you can adjust this)\n",
    "fa_features = [\n",
    "    'capacity',\n",
    "    'sps_within_500m',\n",
    "    'units_supply_within_500m',\n",
    "    'review_count_90d',\n",
    "    'avg_review_rating_90d',\n",
    "    'searches_last_90',\n",
    "    'age_in_days',\n",
    "    'competition_density',\n",
    "    'search_to_supply_ratio' \n",
    "]\n",
    "\n",
    "# Drop rows with NaNs\n",
    "fa_data = df[fa_features].dropna()\n",
    "\n",
    "# Standardize\n",
    "scaler = StandardScaler()\n",
    "fa_data_scaled = scaler.fit_transform(fa_data)"
   ]
  },
  {
   "cell_type": "code",
   "execution_count": 27,
   "id": "eda5fc97-4132-4954-8d69-6d51d50b04c6",
   "metadata": {},
   "outputs": [
    {
     "name": "stdout",
     "output_type": "stream",
     "text": [
      "                           Factor1   Factor2   Factor3\n",
      "capacity                  0.123665  0.007145  0.012313\n",
      "sps_within_500m           0.970945 -0.061401  0.020914\n",
      "units_supply_within_500m  0.844275 -0.055578  0.039333\n",
      "review_count_90d          0.296839  0.805486 -0.134970\n",
      "avg_review_rating_90d    -0.008599  0.147377 -0.063632\n",
      "searches_last_90          0.556322  0.411110 -0.049974\n",
      "age_in_days              -0.005759  0.213596 -0.046626\n",
      "competition_density      -0.144068  0.040231  0.274920\n",
      "search_to_supply_ratio   -0.154411  0.335408  0.662601\n"
     ]
    }
   ],
   "source": [
    "from sklearn.decomposition import FactorAnalysis\n",
    "\n",
    "# Try with 2 or 3 factors to start\n",
    "fa = FactorAnalysis(n_components=3, random_state=42)\n",
    "factors = fa.fit_transform(fa_data_scaled)\n",
    "\n",
    "# Loadings (how variables relate to each factor)\n",
    "loadings = pd.DataFrame(fa.components_.T, index=fa_features, columns=[f'Factor{i+1}' for i in range(3)])\n",
    "print(loadings)"
   ]
  },
  {
   "cell_type": "code",
   "execution_count": null,
   "id": "f6b54b93-4b96-43da-a15b-512c8000fe96",
   "metadata": {},
   "outputs": [],
   "source": [
    "#Factor\t Strong Loadings\n",
    "#F1\tLocal Density & Demand: sps_within_500m, units_supply_within_500m, searches_last_90\n",
    "#F2\tReputation & Engagement:\treview_count_90d, searches_last_90\n",
    "#F3\tDemand Efficiency:\tsearch_to_supply_ratio"
   ]
  },
  {
   "cell_type": "code",
   "execution_count": 28,
   "id": "c2ceb382-b58d-42ad-8ae6-0353cc35a260",
   "metadata": {},
   "outputs": [],
   "source": [
    "# `factors` was already computed as:\n",
    "# factors = fa.fit_transform(fa_data_scaled)\n",
    "\n",
    "# Put it into a DataFrame for clarity\n",
    "factor_scores = pd.DataFrame(factors, columns=['Factor1', 'Factor2', 'Factor3'])"
   ]
  },
  {
   "cell_type": "code",
   "execution_count": 29,
   "id": "057085ad-2798-4063-8d25-a9840525b1b9",
   "metadata": {},
   "outputs": [
    {
     "data": {
      "image/png": "[encoded data removed]",
      "text/plain": [
       "<Figure size 640x480 with 1 Axes>"
      ]
     },
     "metadata": {},
     "output_type": "display_data"
    }
   ],
   "source": [
    "from sklearn.cluster import KMeans\n",
    "import matplotlib.pyplot as plt\n",
    "import seaborn as sns\n",
    "\n",
    "# Optional: find best K using elbow method\n",
    "sse = []\n",
    "for k in range(1, 10):\n",
    "    km = KMeans(n_clusters=k, random_state=42)\n",
    "    km.fit(factor_scores)\n",
    "    sse.append(km.inertia_)\n",
    "\n",
    "plt.plot(range(1, 10), sse, marker='o')\n",
    "plt.xlabel('Number of clusters (k)')\n",
    "plt.ylabel('Sum of Squared Distances (SSE)')\n",
    "plt.title('Elbow Method for Optimal K')\n",
    "plt.grid(True)\n",
    "plt.show()"
   ]
  },
  {
   "cell_type": "code",
   "execution_count": 30,
   "id": "b229351f-acf3-43dc-873d-1a4c38384d7a",
   "metadata": {},
   "outputs": [],
   "source": [
    "kmeans = KMeans(n_clusters=4, random_state=42)\n",
    "cluster_labels = kmeans.fit_predict(factor_scores)\n",
    "\n",
    "# Add to original data\n",
    "df_clustered = fa_data.copy()\n",
    "df_clustered['Cluster'] = cluster_labels"
   ]
  },
  {
   "cell_type": "code",
   "execution_count": 33,
   "id": "cdb6bb92-34e0-4c92-b609-0901612dae4a",
   "metadata": {},
   "outputs": [
    {
     "name": "stdout",
     "output_type": "stream",
     "text": [
      "         capacity  sps_within_500m  units_supply_within_500m  \\\n",
      "Cluster                                                        \n",
      "0           52.53            11.54                    617.94   \n",
      "1           38.14             2.48                     85.26   \n",
      "2           65.53             7.90                    391.55   \n",
      "3           40.45             0.45                      0.00   \n",
      "\n",
      "         review_count_90d  avg_review_rating_90d  searches_last_90  \\\n",
      "Cluster                                                              \n",
      "0                    2.65                   4.25           3266.80   \n",
      "1                    2.08                   4.43            606.61   \n",
      "2                   18.73                   4.76           8868.80   \n",
      "3                    6.64                   4.57           1467.36   \n",
      "\n",
      "         age_in_days  competition_density  search_to_supply_ratio  \n",
      "Cluster                                                            \n",
      "0             765.58                 0.02                    6.21  \n",
      "1             809.72                 0.06                   25.95  \n",
      "2            1066.62                 0.04                   38.54  \n",
      "3             935.09                 0.45                 1467.36  \n"
     ]
    }
   ],
   "source": [
    "# View mean values per cluster\n",
    "cluster_summary = df_clustered.groupby('Cluster').mean()\n",
    "print(cluster_summary.round(2))   "
   ]
  },
  {
   "cell_type": "code",
   "execution_count": 34,
   "id": "b8d1ede9-1875-4ccc-8eed-7eb94e81fd09",
   "metadata": {},
   "outputs": [
    {
     "data": {
      "image/png": "[encoded data removed]",
      "text/plain": [
       "<Figure size 640x480 with 1 Axes>"
      ]
     },
     "metadata": {},
     "output_type": "display_data"
    }
   ],
   "source": [
    "sns.scatterplot(\n",
    "    x='Factor1', y='Factor2',\n",
    "    hue=cluster_labels,\n",
    "    data=factor_scores,\n",
    "    palette='Set2'\n",
    ")\n",
    "plt.title('Clusters of Stashpoints in Factor Space')\n",
    "plt.xlabel('Factor 1: Density & Demand')\n",
    "plt.ylabel('Factor 2: Reputation')\n",
    "plt.grid(True)\n",
    "plt.show()"
   ]
  },
  {
   "cell_type": "code",
   "execution_count": null,
   "id": "6514d070-f2cc-460c-8778-189432709ba4",
   "metadata": {},
   "outputs": [],
   "source": []
  }
 ],
 "metadata": {
  "kernelspec": {
   "display_name": "Python 3 (ipykernel)",
   "language": "python",
   "name": "python3"
  },
  "language_info": {
   "codemirror_mode": {
    "name": "ipython",
    "version": 3
   },
   "file_extension": ".py",
   "mimetype": "text/x-python",
   "name": "python",
   "nbconvert_exporter": "python",
   "pygments_lexer": "ipython3",
   "version": "3.12.7"
  }
 },
 "nbformat": 4,
 "nbformat_minor": 5
}
