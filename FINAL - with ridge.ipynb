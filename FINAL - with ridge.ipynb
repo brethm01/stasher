{
 "cells": [
  {
   "cell_type": "code",
   "execution_count": 99,
   "id": "5eb1c6b3-eb6e-4661-acb3-c5a0b93f364e",
   "metadata": {},
   "outputs": [],
   "source": [
    "# pandas\n",
    "import pandas as pd\n",
    "from pandas import Series,DataFrame\n",
    "from datetime import datetime as datetime\n",
    "import re as re\n",
    "# numpy, matplotlib, seaborn\n",
    "import numpy as np\n",
    "import matplotlib.pyplot as plt\n",
    "import seaborn as sns\n",
    "sns.set_style('whitegrid')\n",
    "%matplotlib inline\n",
    "\n",
    "import warnings\n",
    "warnings.filterwarnings(\"ignore\", 'This pattern has match groups')\n",
    "pd.options.mode.chained_assignment = None  # default='warn'"
   ]
  },
  {
   "cell_type": "code",
   "execution_count": 100,
   "id": "ae45af96-94be-48f1-81ed-e7cebc030881",
   "metadata": {},
   "outputs": [
    {
     "data": {
      "text/html": [
       "<div>\n",
       "<style scoped>\n",
       "    .dataframe tbody tr th:only-of-type {\n",
       "        vertical-align: middle;\n",
       "    }\n",
       "\n",
       "    .dataframe tbody tr th {\n",
       "        vertical-align: top;\n",
       "    }\n",
       "\n",
       "    .dataframe thead th {\n",
       "        text-align: right;\n",
       "    }\n",
       "</style>\n",
       "<table border=\"1\" class=\"dataframe\">\n",
       "  <thead>\n",
       "    <tr style=\"text-align: right;\">\n",
       "      <th></th>\n",
       "      <th>stashpoint_id</th>\n",
       "      <th>bookings_90d</th>\n",
       "      <th>business_name</th>\n",
       "      <th>country</th>\n",
       "      <th>type</th>\n",
       "      <th>capacity</th>\n",
       "      <th>activated</th>\n",
       "      <th>sps_within_500m</th>\n",
       "      <th>units_supply_within_500m</th>\n",
       "      <th>review_count_90d</th>\n",
       "      <th>avg_review_rating_90d</th>\n",
       "      <th>searches_last_90</th>\n",
       "    </tr>\n",
       "  </thead>\n",
       "  <tbody>\n",
       "    <tr>\n",
       "      <th>3</th>\n",
       "      <td>21ee810bc764</td>\n",
       "      <td>2</td>\n",
       "      <td>Foodwise Express</td>\n",
       "      <td>GBR</td>\n",
       "      <td>convenience_store</td>\n",
       "      <td>50</td>\n",
       "      <td>2024-11-06</td>\n",
       "      <td>24</td>\n",
       "      <td>1355</td>\n",
       "      <td>0</td>\n",
       "      <td>NaN</td>\n",
       "      <td>7958</td>\n",
       "    </tr>\n",
       "    <tr>\n",
       "      <th>5</th>\n",
       "      <td>6f169b288d15</td>\n",
       "      <td>3</td>\n",
       "      <td>Foodwise Local</td>\n",
       "      <td>GBR</td>\n",
       "      <td>convenience_store</td>\n",
       "      <td>10</td>\n",
       "      <td>2025-05-29</td>\n",
       "      <td>24</td>\n",
       "      <td>1395</td>\n",
       "      <td>0</td>\n",
       "      <td>NaN</td>\n",
       "      <td>7953</td>\n",
       "    </tr>\n",
       "    <tr>\n",
       "      <th>9</th>\n",
       "      <td>08b673bc5584</td>\n",
       "      <td>113</td>\n",
       "      <td>Europa House Hotel</td>\n",
       "      <td>GBR</td>\n",
       "      <td>hotel</td>\n",
       "      <td>200</td>\n",
       "      <td>2023-07-26</td>\n",
       "      <td>23</td>\n",
       "      <td>1156</td>\n",
       "      <td>4</td>\n",
       "      <td>4.75</td>\n",
       "      <td>4388</td>\n",
       "    </tr>\n",
       "    <tr>\n",
       "      <th>11</th>\n",
       "      <td>5c806eaca40c</td>\n",
       "      <td>11</td>\n",
       "      <td>Sonic Paddington Souvenirs</td>\n",
       "      <td>GBR</td>\n",
       "      <td>luggage_storage_shop</td>\n",
       "      <td>100</td>\n",
       "      <td>2025-03-05</td>\n",
       "      <td>23</td>\n",
       "      <td>1255</td>\n",
       "      <td>0</td>\n",
       "      <td>NaN</td>\n",
       "      <td>7925</td>\n",
       "    </tr>\n",
       "    <tr>\n",
       "      <th>13</th>\n",
       "      <td>b612231f182c</td>\n",
       "      <td>3</td>\n",
       "      <td>Mail Boxes Etc</td>\n",
       "      <td>GBR</td>\n",
       "      <td>postal_shop</td>\n",
       "      <td>50</td>\n",
       "      <td>2020-05-25</td>\n",
       "      <td>23</td>\n",
       "      <td>1305</td>\n",
       "      <td>0</td>\n",
       "      <td>NaN</td>\n",
       "      <td>7946</td>\n",
       "    </tr>\n",
       "  </tbody>\n",
       "</table>\n",
       "</div>"
      ],
      "text/plain": [
       "   stashpoint_id  bookings_90d               business_name country  \\\n",
       "3   21ee810bc764             2            Foodwise Express     GBR   \n",
       "5   6f169b288d15             3              Foodwise Local     GBR   \n",
       "9   08b673bc5584           113          Europa House Hotel     GBR   \n",
       "11  5c806eaca40c            11  Sonic Paddington Souvenirs     GBR   \n",
       "13  b612231f182c             3              Mail Boxes Etc     GBR   \n",
       "\n",
       "                    type  capacity  activated  sps_within_500m  \\\n",
       "3      convenience_store        50 2024-11-06               24   \n",
       "5      convenience_store        10 2025-05-29               24   \n",
       "9                  hotel       200 2023-07-26               23   \n",
       "11  luggage_storage_shop       100 2025-03-05               23   \n",
       "13           postal_shop        50 2020-05-25               23   \n",
       "\n",
       "    units_supply_within_500m  review_count_90d  avg_review_rating_90d  \\\n",
       "3                       1355                 0                    NaN   \n",
       "5                       1395                 0                    NaN   \n",
       "9                       1156                 4                   4.75   \n",
       "11                      1255                 0                    NaN   \n",
       "13                      1305                 0                    NaN   \n",
       "\n",
       "    searches_last_90  \n",
       "3               7958  \n",
       "5               7953  \n",
       "9               4388  \n",
       "11              7925  \n",
       "13              7946  "
      ]
     },
     "execution_count": 100,
     "metadata": {},
     "output_type": "execute_result"
    }
   ],
   "source": [
    "df = pd.read_csv('Bookings per stashpoint prediciton.csv')  \n",
    "df['activated'] = pd.to_datetime(df['activated'] , errors='coerce')\n",
    "\n",
    "# Filter to only include stashpoints in the UK (country == 'GBR')\n",
    "df = df[df['country'] == 'GBR'].copy()\n",
    "\n",
    "df.head()"
   ]
  },
  {
   "cell_type": "code",
   "execution_count": 101,
   "id": "a1d29105-07b9-42c3-99f4-207f9f8b7947",
   "metadata": {},
   "outputs": [
    {
     "name": "stdout",
     "output_type": "stream",
     "text": [
      "['stashpoint_id', 'bookings_90d', 'business_name', 'country', 'type', 'capacity', 'activated', 'sps_within_500m', 'units_supply_within_500m', 'review_count_90d', 'avg_review_rating_90d', 'searches_last_90']\n"
     ]
    }
   ],
   "source": [
    "print(df.columns.tolist()) "
   ]
  },
  {
   "cell_type": "code",
   "execution_count": 102,
   "id": "82151910-9675-413a-95b3-005ef383d495",
   "metadata": {},
   "outputs": [
    {
     "name": "stdout",
     "output_type": "stream",
     "text": [
      "type_grouped\n",
      "locker         952\n",
      "retail         380\n",
      "hospitality    378\n",
      "services       120\n",
      "food            99\n",
      "utility          1\n",
      "Name: count, dtype: int64\n"
     ]
    }
   ],
   "source": [
    "# list of unique locations type \n",
    "#print(df['type'].value_counts())\n",
    "# Group some of them \n",
    "\n",
    "type_mapping = {\n",
    "    # Hospitality\n",
    "    'hotel': 'hospitality',\n",
    "    'hostel': 'hospitality',\n",
    "    'premier_inn_hotel': 'hospitality',\n",
    "    'staycity_hotel': 'hospitality',\n",
    "    'wilde_aparthotel': 'hospitality',\n",
    "    'yha_hostel': 'hospitality',\n",
    "    'marriott_courtyard_hotel': 'hospitality',\n",
    "    'concordia_boutique_hotel': 'hospitality',\n",
    "    'sofitel_hotel': 'hospitality',\n",
    "    'ihg_crowne_plaza_hotel': 'hospitality',\n",
    "\n",
    "    # Retail\n",
    "    'shop': 'retail',\n",
    "    'convenience_store': 'retail',\n",
    "    'tech_shop': 'retail',\n",
    "    'postal_shop': 'retail',\n",
    "    'luggage_storage_shop': 'retail',\n",
    "    'rental_shop': 'retail',\n",
    "    'souvenir_shop': 'retail',\n",
    "    'newsagent': 'retail',\n",
    "    'smoke_shop': 'retail',\n",
    "\n",
    "    # Food & Beverage\n",
    "    'food_and_beverage_business': 'food',\n",
    "    'restaurant': 'food',\n",
    "    'cafe': 'food',\n",
    "\n",
    "    # Services\n",
    "    'office': 'services',\n",
    "    'health_beauty_business': 'services',\n",
    "    'laundry_business': 'services',\n",
    "\n",
    "    # Utility\n",
    "    'car_park': 'utility',\n",
    "\n",
    "    # Locker\n",
    "    'locker': 'locker'\n",
    "}\n",
    "\n",
    "# Apply grouping\n",
    "df['type_grouped'] = df['type'].map(type_mapping).fillna('other')\n",
    "print(df['type_grouped'].value_counts())"
   ]
  },
  {
   "cell_type": "code",
   "execution_count": 103,
   "id": "1d0e542a-7204-4568-bd56-d45555f1a910",
   "metadata": {},
   "outputs": [],
   "source": [
    "# One-hot encode 'type_grouped' and drop the original column\n",
    "df = pd.get_dummies(df, columns=['type_grouped'], prefix='type', drop_first=True)"
   ]
  },
  {
   "cell_type": "code",
   "execution_count": 104,
   "id": "67681377-b35b-4873-8514-ed8089d18e8f",
   "metadata": {},
   "outputs": [],
   "source": [
    "# Drop non needed \n",
    "df.drop(['country', 'type'], axis=1, inplace=True)"
   ]
  },
  {
   "cell_type": "code",
   "execution_count": 105,
   "id": "ac144f23-eb99-4391-a70c-fad9e95e5941",
   "metadata": {},
   "outputs": [],
   "source": [
    "## Additional variables \n",
    "\n",
    "today = pd.Timestamp.today()\n",
    "df['age_in_days'] = (today - df['activated']).dt.days\n",
    "\n",
    "# Competition density (stashpoints per unit) (removed as v weak correlation) \n",
    "df['competition_density'] = df['sps_within_500m'] / (df['units_supply_within_500m'] + 1)\n",
    "\n",
    "# Search to supply ratio\n",
    "df['search_to_supply_ratio'] = df['searches_last_90'] / (df['units_supply_within_500m'] + 1)"
   ]
  },
  {
   "cell_type": "code",
   "execution_count": 106,
   "id": "80407b07-b703-4e3c-bf56-0948536a15c6",
   "metadata": {},
   "outputs": [],
   "source": [
    "# Dealing with too many missings\n",
    "\n",
    "missing_pct = df.isnull().mean().sort_values(ascending=False)\n",
    "#print(missing_pct)\n",
    "\n",
    "zero_pct = (df == 0).mean(numeric_only=True).sort_values(ascending=False)\n",
    "#print(zero_pct)\n"
   ]
  },
  {
   "cell_type": "code",
   "execution_count": 107,
   "id": "a0d48377-fee9-452c-90a9-2afa42f74cdd",
   "metadata": {},
   "outputs": [
    {
     "name": "stdout",
     "output_type": "stream",
     "text": [
      "Columns to consider dropping: ['avg_review_rating_90d', 'type_services', 'type_hospitality', 'type_retail', 'review_count_90d', 'type_utility']\n"
     ]
    }
   ],
   "source": [
    "threshold_missing = 0.3 # Remove if > 30% missing \n",
    "threshold_zero = 0.8 # remove if > 80% are 0\n",
    "\n",
    "cols_to_drop = missing_pct[missing_pct > threshold_missing].index.tolist()\n",
    "cols_to_drop += zero_pct[zero_pct > threshold_zero].index.tolist()\n",
    "cols_to_drop = list(set(cols_to_drop))  # remove duplicates\n",
    "\n",
    "print(\"Columns to consider dropping:\", cols_to_drop)"
   ]
  },
  {
   "cell_type": "code",
   "execution_count": 108,
   "id": "5e5524f0-7110-47d5-9259-ac0c3d8aa5eb",
   "metadata": {},
   "outputs": [],
   "source": [
    "df.drop(['review_count_90d', 'avg_review_rating_90d'], axis=1, inplace=True)"
   ]
  },
  {
   "cell_type": "code",
   "execution_count": 109,
   "id": "c9bb7311-f28b-47d6-a821-ae2ff01fe5f5",
   "metadata": {
    "scrolled": true
   },
   "outputs": [
    {
     "data": {
      "text/html": [
       "<div>\n",
       "<style scoped>\n",
       "    .dataframe tbody tr th:only-of-type {\n",
       "        vertical-align: middle;\n",
       "    }\n",
       "\n",
       "    .dataframe tbody tr th {\n",
       "        vertical-align: top;\n",
       "    }\n",
       "\n",
       "    .dataframe thead th {\n",
       "        text-align: right;\n",
       "    }\n",
       "</style>\n",
       "<table border=\"1\" class=\"dataframe\">\n",
       "  <thead>\n",
       "    <tr style=\"text-align: right;\">\n",
       "      <th></th>\n",
       "      <th>stashpoint_id</th>\n",
       "      <th>bookings_90d</th>\n",
       "      <th>business_name</th>\n",
       "      <th>capacity</th>\n",
       "      <th>activated</th>\n",
       "      <th>sps_within_500m</th>\n",
       "      <th>units_supply_within_500m</th>\n",
       "      <th>searches_last_90</th>\n",
       "      <th>type_hospitality</th>\n",
       "      <th>type_locker</th>\n",
       "      <th>type_retail</th>\n",
       "      <th>type_services</th>\n",
       "      <th>type_utility</th>\n",
       "      <th>age_in_days</th>\n",
       "      <th>competition_density</th>\n",
       "      <th>search_to_supply_ratio</th>\n",
       "    </tr>\n",
       "  </thead>\n",
       "  <tbody>\n",
       "    <tr>\n",
       "      <th>3</th>\n",
       "      <td>21ee810bc764</td>\n",
       "      <td>2</td>\n",
       "      <td>Foodwise Express</td>\n",
       "      <td>50</td>\n",
       "      <td>2024-11-06</td>\n",
       "      <td>24</td>\n",
       "      <td>1355</td>\n",
       "      <td>7958</td>\n",
       "      <td>False</td>\n",
       "      <td>False</td>\n",
       "      <td>True</td>\n",
       "      <td>False</td>\n",
       "      <td>False</td>\n",
       "      <td>243</td>\n",
       "      <td>0.017699</td>\n",
       "      <td>5.868732</td>\n",
       "    </tr>\n",
       "    <tr>\n",
       "      <th>5</th>\n",
       "      <td>6f169b288d15</td>\n",
       "      <td>3</td>\n",
       "      <td>Foodwise Local</td>\n",
       "      <td>10</td>\n",
       "      <td>2025-05-29</td>\n",
       "      <td>24</td>\n",
       "      <td>1395</td>\n",
       "      <td>7953</td>\n",
       "      <td>False</td>\n",
       "      <td>False</td>\n",
       "      <td>True</td>\n",
       "      <td>False</td>\n",
       "      <td>False</td>\n",
       "      <td>39</td>\n",
       "      <td>0.017192</td>\n",
       "      <td>5.696991</td>\n",
       "    </tr>\n",
       "    <tr>\n",
       "      <th>9</th>\n",
       "      <td>08b673bc5584</td>\n",
       "      <td>113</td>\n",
       "      <td>Europa House Hotel</td>\n",
       "      <td>200</td>\n",
       "      <td>2023-07-26</td>\n",
       "      <td>23</td>\n",
       "      <td>1156</td>\n",
       "      <td>4388</td>\n",
       "      <td>True</td>\n",
       "      <td>False</td>\n",
       "      <td>False</td>\n",
       "      <td>False</td>\n",
       "      <td>False</td>\n",
       "      <td>712</td>\n",
       "      <td>0.019879</td>\n",
       "      <td>3.792567</td>\n",
       "    </tr>\n",
       "    <tr>\n",
       "      <th>11</th>\n",
       "      <td>5c806eaca40c</td>\n",
       "      <td>11</td>\n",
       "      <td>Sonic Paddington Souvenirs</td>\n",
       "      <td>100</td>\n",
       "      <td>2025-03-05</td>\n",
       "      <td>23</td>\n",
       "      <td>1255</td>\n",
       "      <td>7925</td>\n",
       "      <td>False</td>\n",
       "      <td>False</td>\n",
       "      <td>True</td>\n",
       "      <td>False</td>\n",
       "      <td>False</td>\n",
       "      <td>124</td>\n",
       "      <td>0.018312</td>\n",
       "      <td>6.309713</td>\n",
       "    </tr>\n",
       "    <tr>\n",
       "      <th>13</th>\n",
       "      <td>b612231f182c</td>\n",
       "      <td>3</td>\n",
       "      <td>Mail Boxes Etc</td>\n",
       "      <td>50</td>\n",
       "      <td>2020-05-25</td>\n",
       "      <td>23</td>\n",
       "      <td>1305</td>\n",
       "      <td>7946</td>\n",
       "      <td>False</td>\n",
       "      <td>False</td>\n",
       "      <td>True</td>\n",
       "      <td>False</td>\n",
       "      <td>False</td>\n",
       "      <td>1869</td>\n",
       "      <td>0.017611</td>\n",
       "      <td>6.084227</td>\n",
       "    </tr>\n",
       "  </tbody>\n",
       "</table>\n",
       "</div>"
      ],
      "text/plain": [
       "   stashpoint_id  bookings_90d               business_name  capacity  \\\n",
       "3   21ee810bc764             2            Foodwise Express        50   \n",
       "5   6f169b288d15             3              Foodwise Local        10   \n",
       "9   08b673bc5584           113          Europa House Hotel       200   \n",
       "11  5c806eaca40c            11  Sonic Paddington Souvenirs       100   \n",
       "13  b612231f182c             3              Mail Boxes Etc        50   \n",
       "\n",
       "    activated  sps_within_500m  units_supply_within_500m  searches_last_90  \\\n",
       "3  2024-11-06               24                      1355              7958   \n",
       "5  2025-05-29               24                      1395              7953   \n",
       "9  2023-07-26               23                      1156              4388   \n",
       "11 2025-03-05               23                      1255              7925   \n",
       "13 2020-05-25               23                      1305              7946   \n",
       "\n",
       "    type_hospitality  type_locker  type_retail  type_services  type_utility  \\\n",
       "3              False        False         True          False         False   \n",
       "5              False        False         True          False         False   \n",
       "9               True        False        False          False         False   \n",
       "11             False        False         True          False         False   \n",
       "13             False        False         True          False         False   \n",
       "\n",
       "    age_in_days  competition_density  search_to_supply_ratio  \n",
       "3           243             0.017699                5.868732  \n",
       "5            39             0.017192                5.696991  \n",
       "9           712             0.019879                3.792567  \n",
       "11          124             0.018312                6.309713  \n",
       "13         1869             0.017611                6.084227  "
      ]
     },
     "execution_count": 109,
     "metadata": {},
     "output_type": "execute_result"
    }
   ],
   "source": [
    "df.head() "
   ]
  },
  {
   "cell_type": "code",
   "execution_count": 110,
   "id": "78833ac1-d85d-43a3-af9d-061471d3818c",
   "metadata": {},
   "outputs": [],
   "source": [
    "#Run correlation analysis "
   ]
  },
  {
   "cell_type": "code",
   "execution_count": 111,
   "id": "e2aa93bc-a501-46da-9a17-e03e4a29d718",
   "metadata": {},
   "outputs": [
    {
     "data": {
      "text/plain": [
       "type_locker                -0.201632\n",
       "type_services              -0.044562\n",
       "competition_density        -0.035142\n",
       "type_utility                0.017603\n",
       "type_retail                 0.038647\n",
       "search_to_supply_ratio      0.187307\n",
       "age_in_days                 0.213924\n",
       "capacity                    0.215565\n",
       "type_hospitality            0.261021\n",
       "sps_within_500m             0.298497\n",
       "units_supply_within_500m    0.334850\n",
       "searches_last_90            0.488269\n",
       "Name: bookings_90d, dtype: float64"
      ]
     },
     "execution_count": 111,
     "metadata": {},
     "output_type": "execute_result"
    }
   ],
   "source": [
    "import matplotlib.pyplot as plt\n",
    "\n",
    "# Compute correlations with target\n",
    "correlations = df.corr(numeric_only=True)['bookings_90d'].drop('bookings_90d').sort_values()\n",
    "correlations\n",
    "# Plot\n",
    "#plt.figure(figsize=(8, 6))\n",
    "#correlations.plot(kind='barh')\n",
    "#plt.title('Feature Correlation with Bookings (Pearson)')\n",
    "#plt.xlabel('Correlation Coefficient')\n",
    "#plt.grid(True)\n",
    "#plt.tight_layout()\n",
    "#plt.show()"
   ]
  },
  {
   "cell_type": "markdown",
   "id": "de1d3080-06c1-4022-91b0-e453b7a83f44",
   "metadata": {},
   "source": [
    "#### Summary of Correlation Strengths"
   ]
  },
  {
   "cell_type": "code",
   "execution_count": 112,
   "id": "cb347c50-c9ce-48b4-97fa-5464a4d76465",
   "metadata": {},
   "outputs": [],
   "source": [
    "# searches_last_90\t0.49\tStrongest linear relationship — keep.\n",
    "# units_supply_within_500m\t0.33\tModerate — keep.\n",
    "# sps_within_500m\t0.30\tModerate — keep.\n",
    "# type_hospitality\t0.26\tMeaningful categorical feature — keep.\n",
    "# capacity\t0.22\tReasonable — keep.\n",
    "# age_in_days\t0.21\tTime since activation — useful.\n",
    "# search_to_supply_ratio\t0.19\tDemand-supply proxy — useful.\n",
    "# type_retail\t0.04\tWeak, may keep depending on importance in model.\n",
    "# type_utility\t0.02\tNegligible correlation — consider dropping.\n",
    "# competition_density\t-0.04\tVery weak negative — consider dropping.\n",
    "# type_services\t-0.04\tAlso weak — consider dropping.\n",
    "# type_locker\t-0.20\tSlightly negative, may indicate niche behavior — optional."
   ]
  },
  {
   "cell_type": "markdown",
   "id": "b7ed3d22-f0e6-411e-9f02-8b138a0a7b8f",
   "metadata": {},
   "source": [
    "#Correlation is a univariate linear relationship\n",
    "\n",
    "#correlation = -0.035  # Very weak\n",
    "#This says: across the dataset, competition_density alone has almost no direct linear relationship with bookings_90d.\n",
    "\n",
    "#However, this doesn't account for its interaction or collinearity with other variables (like sps_within_500m or units_supply_within_500m).\n"
   ]
  },
  {
   "cell_type": "code",
   "execution_count": 113,
   "id": "a69f5221-db1a-4ca0-8f49-90b307b0afec",
   "metadata": {},
   "outputs": [],
   "source": [
    "# Run the Ridge regression coefficients to confirm whether weakly correlated variables actually have low impact in the model. "
   ]
  },
  {
   "cell_type": "code",
   "execution_count": 114,
   "id": "b9803761-94c5-43a6-b355-c410249e97e3",
   "metadata": {},
   "outputs": [
    {
     "data": {
      "text/plain": [
       "units_supply_within_500m    -1.360777\n",
       "competition_density         -0.687881\n",
       "sps_within_500m              0.713616\n",
       "age_in_days                  8.254867\n",
       "search_to_supply_ratio       8.766311\n",
       "capacity                    10.538868\n",
       "searches_last_90            56.193497\n",
       "dtype: float64"
      ]
     },
     "execution_count": 114,
     "metadata": {},
     "output_type": "execute_result"
    }
   ],
   "source": [
    "from sklearn.linear_model import Ridge\n",
    "from sklearn.preprocessing import StandardScaler\n",
    "from sklearn.model_selection import train_test_split\n",
    "\n",
    "# Select features and target \n",
    "X = df.drop(columns=['stashpoint_id', 'bookings_90d', 'activated'], errors='ignore')\n",
    "X = X.select_dtypes(include=['number'])  # Keep only numeric columns\n",
    "y = df['bookings_90d']\n",
    "# Standardize numeric features\n",
    "X_scaled = pd.DataFrame(StandardScaler().fit_transform(X), columns=X.columns)\n",
    "\n",
    "# Split into train/test (optional for now)\n",
    "X_train, X_test, y_train, y_test = train_test_split(X_scaled, y, test_size=0.2, random_state=42)\n",
    "\n",
    "# Fit Ridge regression\n",
    "model = Ridge(alpha=1.0)\n",
    "model.fit(X_train, y_train)\n",
    "\n",
    "# Get coefficients\n",
    "coefficients_ridge = pd.Series(model.coef_, index=X.columns).sort_values()\n",
    "coefficients_ridge\n",
    "# Plot\n",
    "#plt.figure(figsize=(8, 6))\n",
    "#coefficients.plot(kind='barh')\n",
    "#plt.title('Feature Importance via Ridge Regression')\n",
    "#plt.xlabel('Coefficient Value')\n",
    "#plt.grid(True)\n",
    "#plt.tight_layout()\n",
    "#plt.show()"
   ]
  },
  {
   "cell_type": "code",
   "execution_count": 115,
   "id": "4cd751da-b116-4bef-a568-7759cfe4152f",
   "metadata": {},
   "outputs": [],
   "source": [
    "###Feature\tCoefficient\tInterpretation\n",
    "# Positive: \n",
    "#searches_last_90\t56.19\t🔥 Strongest driver — more searches nearby = more bookings.\n",
    "#capacity\t10.54\tHigher capacity → more bookings.\n",
    "#search_to_supply_ratio\t8.77\tDemand relative to supply matters.\n",
    "#age_in_days\t8.25\tOlder stashpoints tend to get more bookings (established trust).\n",
    "#sps_within_500m\t0.71\tSlight positive influence — competition may attract attention.\n",
    "\n",
    "# Negative: \n",
    "#competition_density\t-0.69\tToo much competition per unit might hurt.\n",
    "#units_supply_within_500m\t-1.36\tNearby excess supply may dilute demand."
   ]
  },
  {
   "cell_type": "markdown",
   "id": "b3243dcb-8946-48ea-83fe-d920feb251fd",
   "metadata": {},
   "source": [
    "competition_density Ridge coefficient = -0.688  # Moderate negative\n",
    "This means: when holding all other variables constant, a 1 standard deviation increase in competition_density is associated with a decrease in bookings.\n",
    "\n",
    "The Ridge model penalizes correlated predictors (like sps_within_500m), so its effectively saying:\n",
    "“Given that sps_within_500m is already included and positively important, the remaining unique effect of competition_density is negative.”\n",
    "\n",
    "Why sps_within_500m is positive but competition_density is negative? \n",
    "This is the core insight:\n",
    "sps_within_500m: raw count of competitors nearby — positive effect → suggests a higher-density area that attracts users (like a busy train station).\n",
    "competition_density = sps / (units + 1): normalizes competition per unit of supply → if a place has many stashpoints but little supply, its hyper-competitive — this makes sense to negatively affect your stashpoint.\n",
    "\n",
    "More competition is OK when there’s ample demand and supply, but bad when it’s too tight?\n"
   ]
  },
  {
   "cell_type": "code",
   "execution_count": 116,
   "id": "09422b56-f6d0-467b-acd1-3dc34ecf9610",
   "metadata": {},
   "outputs": [],
   "source": [
    "# Keep competition_density for now, especially in regularized models like Ridge or Lasso.\n",
    "# Monitor Variance Inflation Factor (VIF) if you plan to fit a regular linear regression (to diagnose multicollinearity).\n",
    "# Consider trying models like Random Forest, which are less sensitive to collinearity and can show importance more robustly."
   ]
  },
  {
   "cell_type": "code",
   "execution_count": 117,
   "id": "fe1f6ad0-383a-4f03-b6de-60f574dfae7f",
   "metadata": {},
   "outputs": [],
   "source": [
    "# Let's try a Random Forest \n",
    "# handles non-linearities.\n",
    "#robust to multicollinearity. "
   ]
  },
  {
   "cell_type": "code",
   "execution_count": 118,
   "id": "3d88ef98-58f9-41f6-ac57-9b6e6286d39b",
   "metadata": {},
   "outputs": [
    {
     "name": "stdout",
     "output_type": "stream",
     "text": [
      "Random Forest R²: 0.436\n",
      "Random Forest RMSE: 80.51\n"
     ]
    }
   ],
   "source": [
    "from sklearn.ensemble import RandomForestRegressor\n",
    "from sklearn.model_selection import train_test_split\n",
    "from sklearn.metrics import r2_score, mean_squared_error\n",
    "import pandas as pd\n",
    "import numpy as np\n",
    "import matplotlib.pyplot as plt\n",
    "\n",
    "# 1. Prepare features and target\n",
    "X = df.drop(columns=['stashpoint_id', 'bookings_90d', 'activated'], errors='ignore')\n",
    "X = X.select_dtypes(include=['number'])  # keep numeric only\n",
    "y = df['bookings_90d']\n",
    "\n",
    "# 2. Train-test split\n",
    "X_train, X_test, y_train, y_test = train_test_split(X, y, test_size=0.2, random_state=42)\n",
    "\n",
    "# 3. Fit Random Forest\n",
    "rf = RandomForestRegressor(n_estimators=100, random_state=42)\n",
    "rf.fit(X_train, y_train)\n",
    "\n",
    "# 4. Predict and evaluate\n",
    "y_pred = rf.predict(X_test)\n",
    "r2 = r2_score(y_test, y_pred)\n",
    "rmse = np.sqrt(mean_squared_error(y_test, y_pred))\n",
    "\n",
    "print(f'Random Forest R²: {r2:.3f}')\n",
    "print(f'Random Forest RMSE: {rmse:.2f}')"
   ]
  },
  {
   "cell_type": "markdown",
   "id": "0b7c6fb7-0c73-4da9-a148-e422cde8a5ef",
   "metadata": {},
   "source": [
    "R² = 0.436 →  model explains ~44% of the variance in bookings.\n",
    "\n",
    "RMSE = 80.51 → On average, your predictions are off by ~80 bookings over 90 days.\n",
    "\n"
   ]
  },
  {
   "cell_type": "code",
   "execution_count": 119,
   "id": "2e100b81-9673-457e-93ea-ab4dd96dfb35",
   "metadata": {},
   "outputs": [
    {
     "data": {
      "text/plain": [
       "competition_density         0.062658\n",
       "units_supply_within_500m    0.067322\n",
       "capacity                    0.085603\n",
       "sps_within_500m             0.098018\n",
       "age_in_days                 0.099447\n",
       "search_to_supply_ratio      0.136782\n",
       "searches_last_90            0.450170\n",
       "dtype: float64"
      ]
     },
     "execution_count": 119,
     "metadata": {},
     "output_type": "execute_result"
    }
   ],
   "source": [
    "# Feature importance (Feature rankings: Based on actual contribution to model accuracy, not just linear effect) \n",
    "importances = pd.Series(rf.feature_importances_, index=X.columns).sort_values()\n",
    "importances\n",
    "\n",
    "# Plot\n",
    "#plt.figure(figsize=(8, 6))\n",
    "#importances.plot(kind='barh')\n",
    "#plt.title('Feature Importance (Random Forest)')\n",
    "#plt.xlabel('Importance Score')\n",
    "#plt.tight_layout()\n",
    "#plt.grid(True)\n",
    "#plt.show()"
   ]
  },
  {
   "cell_type": "markdown",
   "id": "2efbd794-cf70-4adc-976c-b31e5f7149e1",
   "metadata": {},
   "source": [
    "### Feature Importance (Random Forest)"
   ]
  },
  {
   "cell_type": "code",
   "execution_count": 120,
   "id": "124e7463-37a1-4801-ae1c-e9547ac0d395",
   "metadata": {},
   "outputs": [],
   "source": [
    "# searches_last_90\t0.45\t🔥 Most influential — demand signal is key.\n",
    "# search_to_supply_ratio\t0.14\tHigh demand per supply = more bookings.\n",
    "# age_in_days\t0.10\tOlder hosts get more bookings — likely more visibility/trust.\n",
    "# sps_within_500m\t0.10\tMore nearby stashpoints = more visibility or clustering benefits.\n",
    "# capacity\t0.09\tMore space = more opportunity to book.\n",
    "# units_supply_within_500m\t0.07\tLocal supply matters, but less so than demand.\n",
    "# competition_density\t0.06\t✅ Still contributes — not a top feature, but not noise."
   ]
  },
  {
   "cell_type": "code",
   "execution_count": 121,
   "id": "b2666baa-e2a8-4d3b-9be3-cdeeba7be17c",
   "metadata": {},
   "outputs": [],
   "source": [
    "# The case of competition density: \n",
    "# competition_density should be kept — it has meaningful but secondary predictive value.\n",
    "# Its importance > 0.05, which is often used as a soft threshold in Random Forest to separate signal from noise.\n",
    "# Its negative sign in Ridge and modest importance in RF suggest it's a refining feature, not a driver — helpful for adjusting predictions downward when competition is fierce.\n"
   ]
  },
  {
   "cell_type": "code",
   "execution_count": 122,
   "id": "083ed081-bd4e-4583-8346-4ed7c065735c",
   "metadata": {},
   "outputs": [],
   "source": [
    "# Step 1: Export Top 10 Drivers Ranked by Ridge + Random Forest"
   ]
  },
  {
   "cell_type": "code",
   "execution_count": 123,
   "id": "edd9aedf-1f99-4bb9-a82a-aa158506ee4d",
   "metadata": {},
   "outputs": [
    {
     "name": "stdout",
     "output_type": "stream",
     "text": [
      "                          ridge_coef  rf_importance  ridge_rank  rf_rank  \\\n",
      "searches_last_90           56.193497       0.450170         1.0      1.0   \n",
      "search_to_supply_ratio      8.766311       0.136782         3.0      2.0   \n",
      "capacity                   10.538868       0.085603         2.0      5.0   \n",
      "age_in_days                 8.254867       0.099447         4.0      3.0   \n",
      "sps_within_500m             0.713616       0.098018         6.0      4.0   \n",
      "units_supply_within_500m    1.360777       0.067322         5.0      6.0   \n",
      "competition_density         0.687881       0.062658         7.0      7.0   \n",
      "\n",
      "                          avg_rank  \n",
      "searches_last_90               1.0  \n",
      "search_to_supply_ratio         2.5  \n",
      "capacity                       3.5  \n",
      "age_in_days                    3.5  \n",
      "sps_within_500m                5.0  \n",
      "units_supply_within_500m       5.5  \n",
      "competition_density            7.0  \n"
     ]
    }
   ],
   "source": [
    "# Ridge coefficients (absolute value for ranking)\n",
    "ridge_coefs = abs(pd.Series(model.coef_, index=X.columns))\n",
    "\n",
    "# Random Forest feature importances\n",
    "rf_importances = pd.Series(rf.feature_importances_, index=X.columns)\n",
    "\n",
    "# Rank features\n",
    "ridge_rank = ridge_coefs.rank(ascending=False)\n",
    "rf_rank = rf_importances.rank(ascending=False)\n",
    "\n",
    "# Average rank\n",
    "avg_rank = (ridge_rank + rf_rank) / 2\n",
    "\n",
    "# Combine everything into one DataFrame\n",
    "combined = pd.DataFrame({\n",
    "    'ridge_coef': ridge_coefs,\n",
    "    'rf_importance': rf_importances,\n",
    "    'ridge_rank': ridge_rank,\n",
    "    'rf_rank': rf_rank,\n",
    "    'avg_rank': avg_rank\n",
    "}).sort_values('avg_rank')\n",
    "\n",
    "# Export and print top 10\n",
    "top_10 = combined.head(10)\n",
    "top_10.to_csv(\"top_10_features_ridge_rf.csv\")\n",
    "print(top_10)"
   ]
  },
  {
   "cell_type": "code",
   "execution_count": 124,
   "id": "790dbcfb-13a0-4f3a-99b2-66255cd47585",
   "metadata": {},
   "outputs": [
    {
     "data": {
      "image/png": "[encoded data removed]",
      "text/plain": [
       "<Figure size 800x600 with 1 Axes>"
      ]
     },
     "metadata": {},
     "output_type": "display_data"
    }
   ],
   "source": [
    "import matplotlib.pyplot as plt\n",
    "\n",
    "# Ensure you have y_test and y_pred from earlier RF model\n",
    "plt.figure(figsize=(8, 6))\n",
    "plt.scatter(y_test, y_pred, alpha=0.6, edgecolor='k')\n",
    "\n",
    "# Reference line: perfect prediction (y = x)\n",
    "plt.plot([y_test.min(), y_test.max()], [y_test.min(), y_test.max()],\n",
    "         color='red', linestyle='--', label='Perfect prediction')\n",
    "\n",
    "plt.xlabel(\"Actual Bookings (90d)\")\n",
    "plt.ylabel(\"Predicted Bookings (90d)\")\n",
    "plt.title(\"Random Forest: Predicted vs. Actual Bookings\")\n",
    "plt.grid(True)\n",
    "plt.legend()\n",
    "plt.tight_layout()\n",
    "plt.show()"
   ]
  },
  {
   "cell_type": "markdown",
   "id": "4c39ba74-bea9-4b1e-847b-8ed33440919a",
   "metadata": {},
   "source": [
    "## SHAP"
   ]
  },
  {
   "cell_type": "code",
   "execution_count": 125,
   "id": "6eaaa27e-27ec-4ec7-b216-d7f0cf10bb47",
   "metadata": {},
   "outputs": [],
   "source": [
    "import shap\n",
    "\n",
    "\n",
    "# Create SHAP explainer using trained Random Forest\n",
    "explainer = shap.Explainer(rf, X_train)\n",
    "\n",
    "# Compute SHAP values for test data (or the whole X if small)\n",
    "shap_values = explainer(X_test, check_additivity=False)"
   ]
  },
  {
   "cell_type": "code",
   "execution_count": 126,
   "id": "3e3ad087-d4e9-48d5-a039-3f9efe1b2c4c",
   "metadata": {},
   "outputs": [
    {
     "data": {
      "image/png": "[encoded data removed]",
      "text/plain": [
       "<Figure size 800x500 with 3 Axes>"
      ]
     },
     "metadata": {},
     "output_type": "display_data"
    }
   ],
   "source": [
    "# Pick a test row index (e.g., the first one)\n",
    "i = 12  # change to any index you want\n",
    "\n",
    "# Waterfall plot: how each feature contributes to prediction\n",
    "shap.plots.waterfall(shap_values[i])"
   ]
  },
  {
   "cell_type": "code",
   "execution_count": 127,
   "id": "27722004-6510-4a0e-8470-28f107f40bd2",
   "metadata": {},
   "outputs": [
    {
     "name": "stdout",
     "output_type": "stream",
     "text": [
      "Raw model prediction: 67.48\n",
      "Actual bookings: 117\n"
     ]
    },
    {
     "name": "stderr",
     "output_type": "stream",
     "text": [
      "C:\\Users\\brethm01\\AppData\\Local\\anaconda3\\Lib\\site-packages\\sklearn\\base.py:493: UserWarning: X does not have valid feature names, but RandomForestRegressor was fitted with feature names\n",
      "  warnings.warn(\n"
     ]
    }
   ],
   "source": [
    "# Check actual prediction for stashpoint index 12 (same as SHAP)\n",
    "i = 12\n",
    "print(\"Raw model prediction:\", rf.predict([X_test.iloc[i]])[0])\n",
    "print(\"Actual bookings:\", y_test.iloc[i])"
   ]
  },
  {
   "cell_type": "code",
   "execution_count": 128,
   "id": "0f3ff615-1d95-4bc2-8e4d-6d2767554d6b",
   "metadata": {},
   "outputs": [
    {
     "name": "stdout",
     "output_type": "stream",
     "text": [
      "SHAP-predicted: 67.48000010362314\n",
      "RF-predicted: 67.48\n",
      "Actual: 117\n"
     ]
    },
    {
     "name": "stderr",
     "output_type": "stream",
     "text": [
      "C:\\Users\\brethm01\\AppData\\Local\\anaconda3\\Lib\\site-packages\\sklearn\\base.py:493: UserWarning: X does not have valid feature names, but RandomForestRegressor was fitted with feature names\n",
      "  warnings.warn(\n"
     ]
    }
   ],
   "source": [
    "# SHAP sum + base_value = model output\n",
    "shap_sum = shap_values[i].values.sum()\n",
    "base = shap_values[i].base_values\n",
    "pred = shap_sum + base\n",
    "\n",
    "print(f\"SHAP-predicted: {pred}\")\n",
    "print(f\"RF-predicted: {rf.predict([X_test.iloc[i]])[0]}\")\n",
    "print(f\"Actual: {y_test.iloc[i]}\")"
   ]
  },
  {
   "cell_type": "code",
   "execution_count": 129,
   "id": "627d0669-1752-436d-99cd-1c3b9ac5a994",
   "metadata": {},
   "outputs": [
    {
     "data": {
      "image/png": "[encoded data removed]",
      "text/plain": [
       "<Figure size 800x430 with 1 Axes>"
      ]
     },
     "metadata": {},
     "output_type": "display_data"
    }
   ],
   "source": [
    "shap.summary_plot(shap_values, X_test, plot_type=\"bar\")"
   ]
  },
  {
   "cell_type": "code",
   "execution_count": 130,
   "id": "fb1ca27d-1292-4d0c-8176-19a33d283854",
   "metadata": {},
   "outputs": [
    {
     "name": "stdout",
     "output_type": "stream",
     "text": [
      "Exported to shap_explanations_stashpoints.csv\n"
     ]
    }
   ],
   "source": [
    "import pandas as pd\n",
    "import shap\n",
    "\n",
    "# 1. Re-create SHAP explainer on the test data\n",
    "explainer = shap.Explainer(rf, X_test)\n",
    "shap_values = explainer(X_test, check_additivity=False)\n",
    "\n",
    "# 2. Convert SHAP values to DataFrame\n",
    "shap_df = pd.DataFrame(shap_values.values, columns=X_test.columns, index=X_test.index)\n",
    "\n",
    "# 3. Add predicted values and actual bookings\n",
    "shap_df['prediction'] = rf.predict(X_test)\n",
    "shap_df['actual'] = y_test.values\n",
    "\n",
    "# 4. Add SHAP base value (mean prediction of model)\n",
    "shap_df['base_value'] = shap_values.base_values\n",
    "\n",
    "# 5. Export\n",
    "shap_df.to_csv(\"shap_explanations_stashpoints.csv\", index_label=\"stashpoint_index\")\n",
    "print(\"Exported to shap_explanations_stashpoints.csv\")"
   ]
  },
  {
   "cell_type": "code",
   "execution_count": 131,
   "id": "fbfd1cc9-68f1-4f53-8d3d-b0166f32ba7d",
   "metadata": {},
   "outputs": [],
   "source": [
    "import pandas as pd\n",
    "import numpy as np\n",
    "import shap\n",
    "\n",
    "# Reset indexes to align with SHAP\n",
    "y_test = y_test.reset_index(drop=True)\n",
    "X_test = X_test.reset_index(drop=True)\n",
    "\n",
    "# Predictions and errors\n",
    "df_errors = pd.DataFrame({\n",
    "    'actual': y_test,\n",
    "    'predicted': y_pred\n",
    "})\n",
    "df_errors['error'] = df_errors['actual'] - df_errors['predicted']\n",
    "df_errors['abs_pct_error'] = np.abs(df_errors['error']) / df_errors['actual']\n",
    "\n",
    "# Top 5 most underpredicted\n",
    "df_top_errors = df_errors.sort_values('abs_pct_error', ascending=False).head(5)\n",
    "\n",
    "# Run SHAP\n",
    "explainer = shap.Explainer(rf, X_test)\n",
    "shap_values = explainer(X_test, check_additivity=False)"
   ]
  },
  {
   "cell_type": "code",
   "execution_count": 132,
   "id": "27ab959f-c2bd-42e5-a472-4edbde153792",
   "metadata": {},
   "outputs": [
    {
     "name": "stdout",
     "output_type": "stream",
     "text": [
      "✅ Exported to 'top_5_shap_explanations.csv'\n"
     ]
    }
   ],
   "source": [
    "top_5_shap = []\n",
    "\n",
    "for i in df_top_errors.index:\n",
    "    shap_row = dict(zip(X_test.columns, shap_values[i].values))  # fix is here\n",
    "    shap_row['prediction'] = df_errors.loc[i, 'predicted']\n",
    "    shap_row['actual'] = df_errors.loc[i, 'actual']\n",
    "    shap_row['error'] = df_errors.loc[i, 'error']\n",
    "    shap_row['abs_pct_error'] = df_errors.loc[i, 'abs_pct_error']\n",
    "    top_5_shap.append(shap_row)\n",
    "\n",
    "\n",
    "# Convert to DataFrame\n",
    "shap_table = pd.DataFrame(top_5_shap)\n",
    "\n",
    "# Optional: reorder columns\n",
    "meta_cols = ['prediction', 'actual', 'error', 'abs_pct_error']\n",
    "feature_cols = [c for c in shap_table.columns if c not in meta_cols]\n",
    "shap_table = shap_table[meta_cols + feature_cols]\n",
    "\n",
    "# Export\n",
    "shap_table.to_csv(\"top_5_shap_explanations.csv\", index=False)\n",
    "print(\"✅ Exported to 'top_5_shap_explanations.csv'\")"
   ]
  },
  {
   "cell_type": "code",
   "execution_count": null,
   "id": "cb733fa1-3021-4638-92a0-e5dc1072feaf",
   "metadata": {},
   "outputs": [],
   "source": []
  },
  {
   "cell_type": "code",
   "execution_count": null,
   "id": "301aa5ad-2ed0-4af0-bd94-f32a6a367ae8",
   "metadata": {},
   "outputs": [],
   "source": []
  },
  {
   "cell_type": "code",
   "execution_count": 137,
   "id": "5b5e5416-1ef6-4e84-8fbc-f0d4400ce29a",
   "metadata": {},
   "outputs": [
    {
     "ename": "KeyError",
     "evalue": "\"['type_grouped'] not in index\"",
     "output_type": "error",
     "traceback": [
      "\u001b[1;31m---------------------------------------------------------------------------\u001b[0m",
      "\u001b[1;31mKeyError\u001b[0m                                  Traceback (most recent call last)",
      "Cell \u001b[1;32mIn[137], line 13\u001b[0m\n\u001b[0;32m      2\u001b[0m features \u001b[38;5;241m=\u001b[39m [\n\u001b[0;32m      3\u001b[0m     \u001b[38;5;124m'\u001b[39m\u001b[38;5;124mcapacity\u001b[39m\u001b[38;5;124m'\u001b[39m,\n\u001b[0;32m      4\u001b[0m     \u001b[38;5;124m'\u001b[39m\u001b[38;5;124mage_in_days\u001b[39m\u001b[38;5;124m'\u001b[39m,\n\u001b[1;32m   (...)\u001b[0m\n\u001b[0;32m      9\u001b[0m     \u001b[38;5;124m'\u001b[39m\u001b[38;5;124mtype_grouped\u001b[39m\u001b[38;5;124m'\u001b[39m  \u001b[38;5;66;03m# only categorical\u001b[39;00m\n\u001b[0;32m     10\u001b[0m ]\n\u001b[0;32m     12\u001b[0m \u001b[38;5;66;03m# Filter the dataframe to include only these columns\u001b[39;00m\n\u001b[1;32m---> 13\u001b[0m X_seg \u001b[38;5;241m=\u001b[39m df[features]\u001b[38;5;241m.\u001b[39mcopy()\n\u001b[0;32m     15\u001b[0m \u001b[38;5;66;03m# One-hot encode type\u001b[39;00m\n\u001b[0;32m     16\u001b[0m X_seg \u001b[38;5;241m=\u001b[39m pd\u001b[38;5;241m.\u001b[39mget_dummies(X_seg, columns\u001b[38;5;241m=\u001b[39m[\u001b[38;5;124m'\u001b[39m\u001b[38;5;124mtype_grouped\u001b[39m\u001b[38;5;124m'\u001b[39m], drop_first\u001b[38;5;241m=\u001b[39m\u001b[38;5;28;01mTrue\u001b[39;00m)\n",
      "File \u001b[1;32m~\\AppData\\Local\\anaconda3\\Lib\\site-packages\\pandas\\core\\frame.py:4108\u001b[0m, in \u001b[0;36mDataFrame.__getitem__\u001b[1;34m(self, key)\u001b[0m\n\u001b[0;32m   4106\u001b[0m     \u001b[38;5;28;01mif\u001b[39;00m is_iterator(key):\n\u001b[0;32m   4107\u001b[0m         key \u001b[38;5;241m=\u001b[39m \u001b[38;5;28mlist\u001b[39m(key)\n\u001b[1;32m-> 4108\u001b[0m     indexer \u001b[38;5;241m=\u001b[39m \u001b[38;5;28mself\u001b[39m\u001b[38;5;241m.\u001b[39mcolumns\u001b[38;5;241m.\u001b[39m_get_indexer_strict(key, \u001b[38;5;124m\"\u001b[39m\u001b[38;5;124mcolumns\u001b[39m\u001b[38;5;124m\"\u001b[39m)[\u001b[38;5;241m1\u001b[39m]\n\u001b[0;32m   4110\u001b[0m \u001b[38;5;66;03m# take() does not accept boolean indexers\u001b[39;00m\n\u001b[0;32m   4111\u001b[0m \u001b[38;5;28;01mif\u001b[39;00m \u001b[38;5;28mgetattr\u001b[39m(indexer, \u001b[38;5;124m\"\u001b[39m\u001b[38;5;124mdtype\u001b[39m\u001b[38;5;124m\"\u001b[39m, \u001b[38;5;28;01mNone\u001b[39;00m) \u001b[38;5;241m==\u001b[39m \u001b[38;5;28mbool\u001b[39m:\n",
      "File \u001b[1;32m~\\AppData\\Local\\anaconda3\\Lib\\site-packages\\pandas\\core\\indexes\\base.py:6200\u001b[0m, in \u001b[0;36mIndex._get_indexer_strict\u001b[1;34m(self, key, axis_name)\u001b[0m\n\u001b[0;32m   6197\u001b[0m \u001b[38;5;28;01melse\u001b[39;00m:\n\u001b[0;32m   6198\u001b[0m     keyarr, indexer, new_indexer \u001b[38;5;241m=\u001b[39m \u001b[38;5;28mself\u001b[39m\u001b[38;5;241m.\u001b[39m_reindex_non_unique(keyarr)\n\u001b[1;32m-> 6200\u001b[0m \u001b[38;5;28mself\u001b[39m\u001b[38;5;241m.\u001b[39m_raise_if_missing(keyarr, indexer, axis_name)\n\u001b[0;32m   6202\u001b[0m keyarr \u001b[38;5;241m=\u001b[39m \u001b[38;5;28mself\u001b[39m\u001b[38;5;241m.\u001b[39mtake(indexer)\n\u001b[0;32m   6203\u001b[0m \u001b[38;5;28;01mif\u001b[39;00m \u001b[38;5;28misinstance\u001b[39m(key, Index):\n\u001b[0;32m   6204\u001b[0m     \u001b[38;5;66;03m# GH 42790 - Preserve name from an Index\u001b[39;00m\n",
      "File \u001b[1;32m~\\AppData\\Local\\anaconda3\\Lib\\site-packages\\pandas\\core\\indexes\\base.py:6252\u001b[0m, in \u001b[0;36mIndex._raise_if_missing\u001b[1;34m(self, key, indexer, axis_name)\u001b[0m\n\u001b[0;32m   6249\u001b[0m     \u001b[38;5;28;01mraise\u001b[39;00m \u001b[38;5;167;01mKeyError\u001b[39;00m(\u001b[38;5;124mf\u001b[39m\u001b[38;5;124m\"\u001b[39m\u001b[38;5;124mNone of [\u001b[39m\u001b[38;5;132;01m{\u001b[39;00mkey\u001b[38;5;132;01m}\u001b[39;00m\u001b[38;5;124m] are in the [\u001b[39m\u001b[38;5;132;01m{\u001b[39;00maxis_name\u001b[38;5;132;01m}\u001b[39;00m\u001b[38;5;124m]\u001b[39m\u001b[38;5;124m\"\u001b[39m)\n\u001b[0;32m   6251\u001b[0m not_found \u001b[38;5;241m=\u001b[39m \u001b[38;5;28mlist\u001b[39m(ensure_index(key)[missing_mask\u001b[38;5;241m.\u001b[39mnonzero()[\u001b[38;5;241m0\u001b[39m]]\u001b[38;5;241m.\u001b[39munique())\n\u001b[1;32m-> 6252\u001b[0m \u001b[38;5;28;01mraise\u001b[39;00m \u001b[38;5;167;01mKeyError\u001b[39;00m(\u001b[38;5;124mf\u001b[39m\u001b[38;5;124m\"\u001b[39m\u001b[38;5;132;01m{\u001b[39;00mnot_found\u001b[38;5;132;01m}\u001b[39;00m\u001b[38;5;124m not in index\u001b[39m\u001b[38;5;124m\"\u001b[39m)\n",
      "\u001b[1;31mKeyError\u001b[0m: \"['type_grouped'] not in index\""
     ]
    }
   ],
   "source": [
    "# Check your selected columns again\n",
    "features = [\n",
    "    'capacity',\n",
    "    'age_in_days',\n",
    "    'searches_last_90',\n",
    "    'sps_within_500m',\n",
    "    'units_supply_within_500m',\n",
    "    'search_to_supply_ratio',\n",
    "    'type_grouped'  # only categorical\n",
    "]\n",
    "\n",
    "# Filter the dataframe to include only these columns\n",
    "X_seg = df[features].copy()\n",
    "\n",
    "# One-hot encode type\n",
    "X_seg = pd.get_dummies(X_seg, columns=['type_grouped'], drop_first=True)\n",
    "\n",
    "# Ensure only numeric columns remain\n",
    "X_seg = X_seg.select_dtypes(include='number')"
   ]
  },
  {
   "cell_type": "code",
   "execution_count": null,
   "id": "ef2a7b75-6fd2-48de-9f23-060a0cf9c9e5",
   "metadata": {},
   "outputs": [],
   "source": [
    "from sklearn.preprocessing import StandardScaler\n",
    "\n",
    "scaler = StandardScaler()\n",
    "df = scaler.fit_transform(X_seg)"
   ]
  },
  {
   "cell_type": "code",
   "execution_count": null,
   "id": "37f841d6-eae5-4255-81d1-73bdb03cffc2",
   "metadata": {},
   "outputs": [],
   "source": [
    "from sklearn.cluster import KMeans\n",
    "\n",
    "kmeans = KMeans(n_clusters=4, random_state=42)\n",
    "df['segment'] = kmeans.fit_predict(X_scaled)"
   ]
  },
  {
   "cell_type": "code",
   "execution_count": null,
   "id": "a5c9e4ab-bf8c-43a8-b1bb-34450e7db3c9",
   "metadata": {},
   "outputs": [],
   "source": []
  },
  {
   "cell_type": "markdown",
   "id": "2d1b71c2-af7d-4299-b7f6-eb48fcf6e9d6",
   "metadata": {},
   "source": [
    "## DRAFT"
   ]
  },
  {
   "cell_type": "code",
   "execution_count": 87,
   "id": "eda5fc97-4132-4954-8d69-6d51d50b04c6",
   "metadata": {},
   "outputs": [
    {
     "ename": "NameError",
     "evalue": "name 'fa_data_scaled' is not defined",
     "output_type": "error",
     "traceback": [
      "\u001b[1;31m---------------------------------------------------------------------------\u001b[0m",
      "\u001b[1;31mNameError\u001b[0m                                 Traceback (most recent call last)",
      "Cell \u001b[1;32mIn[87], line 5\u001b[0m\n\u001b[0;32m      3\u001b[0m \u001b[38;5;66;03m# Try with 2 or 3 factors to start\u001b[39;00m\n\u001b[0;32m      4\u001b[0m fa \u001b[38;5;241m=\u001b[39m FactorAnalysis(n_components\u001b[38;5;241m=\u001b[39m\u001b[38;5;241m3\u001b[39m, random_state\u001b[38;5;241m=\u001b[39m\u001b[38;5;241m42\u001b[39m)\n\u001b[1;32m----> 5\u001b[0m factors \u001b[38;5;241m=\u001b[39m fa\u001b[38;5;241m.\u001b[39mfit_transform(fa_data_scaled)\n\u001b[0;32m      7\u001b[0m \u001b[38;5;66;03m# Loadings (how variables relate to each factor)\u001b[39;00m\n\u001b[0;32m      8\u001b[0m loadings \u001b[38;5;241m=\u001b[39m pd\u001b[38;5;241m.\u001b[39mDataFrame(fa\u001b[38;5;241m.\u001b[39mcomponents_\u001b[38;5;241m.\u001b[39mT, index\u001b[38;5;241m=\u001b[39mfa_features, columns\u001b[38;5;241m=\u001b[39m[\u001b[38;5;124mf\u001b[39m\u001b[38;5;124m'\u001b[39m\u001b[38;5;124mFactor\u001b[39m\u001b[38;5;132;01m{\u001b[39;00mi\u001b[38;5;241m+\u001b[39m\u001b[38;5;241m1\u001b[39m\u001b[38;5;132;01m}\u001b[39;00m\u001b[38;5;124m'\u001b[39m \u001b[38;5;28;01mfor\u001b[39;00m i \u001b[38;5;129;01min\u001b[39;00m \u001b[38;5;28mrange\u001b[39m(\u001b[38;5;241m3\u001b[39m)])\n",
      "\u001b[1;31mNameError\u001b[0m: name 'fa_data_scaled' is not defined"
     ]
    }
   ],
   "source": [
    "from sklearn.decomposition import FactorAnalysis\n",
    "\n",
    "# Try with 2 or 3 factors to start\n",
    "fa = FactorAnalysis(n_components=3, random_state=42)\n",
    "factors = fa.fit_transform(fa_data_scaled)\n",
    "\n",
    "# Loadings (how variables relate to each factor)\n",
    "loadings = pd.DataFrame(fa.components_.T, index=fa_features, columns=[f'Factor{i+1}' for i in range(3)])\n",
    "print(loadings)"
   ]
  },
  {
   "cell_type": "code",
   "execution_count": null,
   "id": "f6b54b93-4b96-43da-a15b-512c8000fe96",
   "metadata": {},
   "outputs": [],
   "source": [
    "#Factor\t Strong Loadings\n",
    "#F1\tLocal Density & Demand: sps_within_500m, units_supply_within_500m, searches_last_90\n",
    "#F2\tReputation & Engagement:\treview_count_90d, searches_last_90\n",
    "#F3\tDemand Efficiency:\tsearch_to_supply_ratio"
   ]
  },
  {
   "cell_type": "code",
   "execution_count": null,
   "id": "c2ceb382-b58d-42ad-8ae6-0353cc35a260",
   "metadata": {},
   "outputs": [],
   "source": [
    "# `factors` was already computed as:\n",
    "# factors = fa.fit_transform(fa_data_scaled)\n",
    "\n",
    "# Put it into a DataFrame for clarity\n",
    "factor_scores = pd.DataFrame(factors, columns=['Factor1', 'Factor2', 'Factor3'])"
   ]
  },
  {
   "cell_type": "code",
   "execution_count": null,
   "id": "057085ad-2798-4063-8d25-a9840525b1b9",
   "metadata": {},
   "outputs": [],
   "source": [
    "from sklearn.cluster import KMeans\n",
    "import matplotlib.pyplot as plt\n",
    "import seaborn as sns\n",
    "\n",
    "# Optional: find best K using elbow method\n",
    "sse = []\n",
    "for k in range(1, 10):\n",
    "    km = KMeans(n_clusters=k, random_state=42)\n",
    "    km.fit(factor_scores)\n",
    "    sse.append(km.inertia_)\n",
    "\n",
    "plt.plot(range(1, 10), sse, marker='o')\n",
    "plt.xlabel('Number of clusters (k)')\n",
    "plt.ylabel('Sum of Squared Distances (SSE)')\n",
    "plt.title('Elbow Method for Optimal K')\n",
    "plt.grid(True)\n",
    "plt.show()"
   ]
  },
  {
   "cell_type": "code",
   "execution_count": null,
   "id": "b229351f-acf3-43dc-873d-1a4c38384d7a",
   "metadata": {},
   "outputs": [],
   "source": [
    "kmeans = KMeans(n_clusters=4, random_state=42)\n",
    "cluster_labels = kmeans.fit_predict(factor_scores)\n",
    "\n",
    "# Add to original data\n",
    "df_clustered = fa_data.copy()\n",
    "df_clustered['Cluster'] = cluster_labels"
   ]
  },
  {
   "cell_type": "code",
   "execution_count": null,
   "id": "cdb6bb92-34e0-4c92-b609-0901612dae4a",
   "metadata": {},
   "outputs": [],
   "source": [
    "# View mean values per cluster\n",
    "cluster_summary = df_clustered.groupby('Cluster').mean()\n",
    "print(cluster_summary.round(2))   "
   ]
  },
  {
   "cell_type": "code",
   "execution_count": null,
   "id": "b8d1ede9-1875-4ccc-8eed-7eb94e81fd09",
   "metadata": {},
   "outputs": [],
   "source": [
    "sns.scatterplot(\n",
    "    x='Factor1', y='Factor2',\n",
    "    hue=cluster_labels,\n",
    "    data=factor_scores,\n",
    "    palette='Set2'\n",
    ")\n",
    "plt.title('Clusters of Stashpoints in Factor Space')\n",
    "plt.xlabel('Factor 1: Density & Demand')\n",
    "plt.ylabel('Factor 2: Reputation')\n",
    "plt.grid(True)\n",
    "plt.show()"
   ]
  },
  {
   "cell_type": "code",
   "execution_count": null,
   "id": "6514d070-f2cc-460c-8778-189432709ba4",
   "metadata": {},
   "outputs": [],
   "source": []
  }
 ],
 "metadata": {
  "kernelspec": {
   "display_name": "Python 3 (ipykernel)",
   "language": "python",
   "name": "python3"
  },
  "language_info": {
   "codemirror_mode": {
    "name": "ipython",
    "version": 3
   },
   "file_extension": ".py",
   "mimetype": "text/x-python",
   "name": "python",
   "nbconvert_exporter": "python",
   "pygments_lexer": "ipython3",
   "version": "3.12.7"
  }
 },
 "nbformat": 4,
 "nbformat_minor": 5
}
